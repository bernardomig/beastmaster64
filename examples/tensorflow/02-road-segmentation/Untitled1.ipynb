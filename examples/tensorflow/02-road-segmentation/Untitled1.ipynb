{
 "cells": [
  {
   "cell_type": "code",
   "execution_count": 8,
   "metadata": {},
   "outputs": [],
   "source": [
    "from PIL import Image\n",
    "from multiprocessing.pool import ThreadPool\n",
    "from pathlib import Path\n",
    "from tqdm import tqdm as tqdm\n",
    "\n",
    "import tensorflow as tf\n",
    "from tensorflow import keras"
   ]
  },
  {
   "cell_type": "code",
   "execution_count": 9,
   "metadata": {},
   "outputs": [],
   "source": [
    "ds_path = Path(\"/home/bml/datasets/cities-scapes/\")"
   ]
  },
  {
   "cell_type": "code",
   "execution_count": 34,
   "metadata": {},
   "outputs": [
    {
     "name": "stdout",
     "output_type": "stream",
     "text": [
      "Found 0 images belonging to 0 classes.\n"
     ]
    }
   ],
   "source": [
    "seed = 1\n",
    "augmentation_args = dict()\n",
    "\n",
    "train_generator = keras.preprocessing.image.ImageDataGenerator(**augmentation_args)\n",
    "\n",
    "train = train_generator.flow_from_directory(str(ds_path / 'images_480' / 'train'), class_mode=None, batch_size=32)"
   ]
  },
  {
   "cell_type": "code",
   "execution_count": 33,
   "metadata": {},
   "outputs": [
    {
     "data": {
      "text/plain": [
       "\u001b[0;31mSignature:\u001b[0m\n",
       "\u001b[0mtrain_generator\u001b[0m\u001b[0;34m.\u001b[0m\u001b[0mflow_from_directory\u001b[0m\u001b[0;34m(\u001b[0m\u001b[0;34m\u001b[0m\n",
       "\u001b[0;34m\u001b[0m    \u001b[0mdirectory\u001b[0m\u001b[0;34m,\u001b[0m\u001b[0;34m\u001b[0m\n",
       "\u001b[0;34m\u001b[0m    \u001b[0mtarget_size\u001b[0m\u001b[0;34m=\u001b[0m\u001b[0;34m(\u001b[0m\u001b[0;36m256\u001b[0m\u001b[0;34m,\u001b[0m \u001b[0;36m256\u001b[0m\u001b[0;34m)\u001b[0m\u001b[0;34m,\u001b[0m\u001b[0;34m\u001b[0m\n",
       "\u001b[0;34m\u001b[0m    \u001b[0mcolor_mode\u001b[0m\u001b[0;34m=\u001b[0m\u001b[0;34m'rgb'\u001b[0m\u001b[0;34m,\u001b[0m\u001b[0;34m\u001b[0m\n",
       "\u001b[0;34m\u001b[0m    \u001b[0mclasses\u001b[0m\u001b[0;34m=\u001b[0m\u001b[0;32mNone\u001b[0m\u001b[0;34m,\u001b[0m\u001b[0;34m\u001b[0m\n",
       "\u001b[0;34m\u001b[0m    \u001b[0mclass_mode\u001b[0m\u001b[0;34m=\u001b[0m\u001b[0;34m'categorical'\u001b[0m\u001b[0;34m,\u001b[0m\u001b[0;34m\u001b[0m\n",
       "\u001b[0;34m\u001b[0m    \u001b[0mbatch_size\u001b[0m\u001b[0;34m=\u001b[0m\u001b[0;36m32\u001b[0m\u001b[0;34m,\u001b[0m\u001b[0;34m\u001b[0m\n",
       "\u001b[0;34m\u001b[0m    \u001b[0mshuffle\u001b[0m\u001b[0;34m=\u001b[0m\u001b[0;32mTrue\u001b[0m\u001b[0;34m,\u001b[0m\u001b[0;34m\u001b[0m\n",
       "\u001b[0;34m\u001b[0m    \u001b[0mseed\u001b[0m\u001b[0;34m=\u001b[0m\u001b[0;32mNone\u001b[0m\u001b[0;34m,\u001b[0m\u001b[0;34m\u001b[0m\n",
       "\u001b[0;34m\u001b[0m    \u001b[0msave_to_dir\u001b[0m\u001b[0;34m=\u001b[0m\u001b[0;32mNone\u001b[0m\u001b[0;34m,\u001b[0m\u001b[0;34m\u001b[0m\n",
       "\u001b[0;34m\u001b[0m    \u001b[0msave_prefix\u001b[0m\u001b[0;34m=\u001b[0m\u001b[0;34m''\u001b[0m\u001b[0;34m,\u001b[0m\u001b[0;34m\u001b[0m\n",
       "\u001b[0;34m\u001b[0m    \u001b[0msave_format\u001b[0m\u001b[0;34m=\u001b[0m\u001b[0;34m'png'\u001b[0m\u001b[0;34m,\u001b[0m\u001b[0;34m\u001b[0m\n",
       "\u001b[0;34m\u001b[0m    \u001b[0mfollow_links\u001b[0m\u001b[0;34m=\u001b[0m\u001b[0;32mFalse\u001b[0m\u001b[0;34m,\u001b[0m\u001b[0;34m\u001b[0m\n",
       "\u001b[0;34m\u001b[0m    \u001b[0msubset\u001b[0m\u001b[0;34m=\u001b[0m\u001b[0;32mNone\u001b[0m\u001b[0;34m,\u001b[0m\u001b[0;34m\u001b[0m\n",
       "\u001b[0;34m\u001b[0m    \u001b[0minterpolation\u001b[0m\u001b[0;34m=\u001b[0m\u001b[0;34m'nearest'\u001b[0m\u001b[0;34m,\u001b[0m\u001b[0;34m\u001b[0m\n",
       "\u001b[0;34m\u001b[0m\u001b[0;34m)\u001b[0m\u001b[0;34m\u001b[0m\u001b[0;34m\u001b[0m\u001b[0m\n",
       "\u001b[0;31mDocstring:\u001b[0m\n",
       "Takes the path to a directory & generates batches of augmented data.\n",
       "\n",
       "# Arguments\n",
       "    directory: string, path to the target directory.\n",
       "        It should contain one subdirectory per class.\n",
       "        Any PNG, JPG, BMP, PPM or TIF images\n",
       "        inside each of the subdirectories directory tree\n",
       "        will be included in the generator.\n",
       "        See [this script](\n",
       "        https://gist.github.com/fchollet/0830affa1f7f19fd47b06d4cf89ed44d)\n",
       "        for more details.\n",
       "    target_size: Tuple of integers `(height, width)`,\n",
       "        default: `(256, 256)`.\n",
       "        The dimensions to which all images found will be resized.\n",
       "    color_mode: One of \"grayscale\", \"rgb\", \"rgba\". Default: \"rgb\".\n",
       "        Whether the images will be converted to\n",
       "        have 1, 3, or 4 channels.\n",
       "    classes: Optional list of class subdirectories\n",
       "        (e.g. `['dogs', 'cats']`). Default: None.\n",
       "        If not provided, the list of classes will be automatically\n",
       "        inferred from the subdirectory names/structure\n",
       "        under `directory`, where each subdirectory will\n",
       "        be treated as a different class\n",
       "        (and the order of the classes, which will map to the label\n",
       "        indices, will be alphanumeric).\n",
       "        The dictionary containing the mapping from class names to class\n",
       "        indices can be obtained via the attribute `class_indices`.\n",
       "    class_mode: One of \"categorical\", \"binary\", \"sparse\",\n",
       "        \"input\", or None. Default: \"categorical\".\n",
       "        Determines the type of label arrays that are returned:\n",
       "        - \"categorical\" will be 2D one-hot encoded labels,\n",
       "        - \"binary\" will be 1D binary labels,\n",
       "            \"sparse\" will be 1D integer labels,\n",
       "        - \"input\" will be images identical\n",
       "            to input images (mainly used to work with autoencoders).\n",
       "        - If None, no labels are returned\n",
       "          (the generator will only yield batches of image data,\n",
       "          which is useful to use with `model.predict_generator()`).\n",
       "          Please note that in case of class_mode None,\n",
       "          the data still needs to reside in a subdirectory\n",
       "          of `directory` for it to work correctly.\n",
       "    batch_size: Size of the batches of data (default: 32).\n",
       "    shuffle: Whether to shuffle the data (default: True)\n",
       "        If set to False, sorts the data in alphanumeric order.\n",
       "    seed: Optional random seed for shuffling and transformations.\n",
       "    save_to_dir: None or str (default: None).\n",
       "        This allows you to optionally specify\n",
       "        a directory to which to save\n",
       "        the augmented pictures being generated\n",
       "        (useful for visualizing what you are doing).\n",
       "    save_prefix: Str. Prefix to use for filenames of saved pictures\n",
       "        (only relevant if `save_to_dir` is set).\n",
       "    save_format: One of \"png\", \"jpeg\"\n",
       "        (only relevant if `save_to_dir` is set). Default: \"png\".\n",
       "    follow_links: Whether to follow symlinks inside\n",
       "        class subdirectories (default: False).\n",
       "    subset: Subset of data (`\"training\"` or `\"validation\"`) if\n",
       "        `validation_split` is set in `ImageDataGenerator`.\n",
       "    interpolation: Interpolation method used to\n",
       "        resample the image if the\n",
       "        target size is different from that of the loaded image.\n",
       "        Supported methods are `\"nearest\"`, `\"bilinear\"`,\n",
       "        and `\"bicubic\"`.\n",
       "        If PIL version 1.1.3 or newer is installed, `\"lanczos\"` is also\n",
       "        supported. If PIL version 3.4.0 or newer is installed,\n",
       "        `\"box\"` and `\"hamming\"` are also supported.\n",
       "        By default, `\"nearest\"` is used.\n",
       "\n",
       "# Returns\n",
       "    A `DirectoryIterator` yielding tuples of `(x, y)`\n",
       "        where `x` is a numpy array containing a batch\n",
       "        of images with shape `(batch_size, *target_size, channels)`\n",
       "        and `y` is a numpy array of corresponding labels.\n",
       "\u001b[0;31mFile:\u001b[0m      ~/miniconda3/envs/keras/lib/python3.7/site-packages/keras_preprocessing/image/image_data_generator.py\n",
       "\u001b[0;31mType:\u001b[0m      method\n"
      ]
     },
     "metadata": {},
     "output_type": "display_data"
    }
   ],
   "source": [
    "train_generator.flow_from_directory?"
   ]
  },
  {
   "cell_type": "code",
   "execution_count": null,
   "metadata": {},
   "outputs": [],
   "source": []
  }
 ],
 "metadata": {
  "kernelspec": {
   "display_name": "Python 3",
   "language": "python",
   "name": "python3"
  },
  "language_info": {
   "codemirror_mode": {
    "name": "ipython",
    "version": 3
   },
   "file_extension": ".py",
   "mimetype": "text/x-python",
   "name": "python",
   "nbconvert_exporter": "python",
   "pygments_lexer": "ipython3",
   "version": "3.7.4"
  }
 },
 "nbformat": 4,
 "nbformat_minor": 4
}
