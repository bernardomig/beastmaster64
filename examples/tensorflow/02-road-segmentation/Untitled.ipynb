{
 "cells": [
  {
   "cell_type": "code",
   "execution_count": 9,
   "metadata": {},
   "outputs": [],
   "source": [
    "from PIL import Image\n",
    "from multiprocessing.pool import ThreadPool\n",
    "from pathlib import Path\n",
    "from tqdm import tqdm as tqdm"
   ]
  },
  {
   "cell_type": "code",
   "execution_count": 10,
   "metadata": {},
   "outputs": [],
   "source": [
    "ds_path = Path(\"/home/bml/datasets/cities-scapes/\")"
   ]
  },
  {
   "cell_type": "code",
   "execution_count": 11,
   "metadata": {},
   "outputs": [],
   "source": [
    "def find_images(directory):\n",
    "    return sorted(directory.glob('*/*.png'))\n",
    "def find_labels(directory):\n",
    "    return sorted(directory.glob('*/*_labelIds.png'))"
   ]
  },
  {
   "cell_type": "code",
   "execution_count": 12,
   "metadata": {},
   "outputs": [],
   "source": [
    "images = { split: find_images(ds_path / 'leftImg8bit' / split) for split in ['train', 'val', 'test']}\n",
    "labels = { split: find_labels(ds_path / 'gtFine' / split) for split in ['train', 'val', 'test']}"
   ]
  },
  {
   "cell_type": "code",
   "execution_count": 13,
   "metadata": {},
   "outputs": [],
   "source": [
    "def process_image(image, out_dir, output_shape):\n",
    "    Image.open(image) \\\n",
    "         .resize(output_shape) \\\n",
    "         .save(out_dir / img.name)"
   ]
  },
  {
   "cell_type": "code",
   "execution_count": 14,
   "metadata": {},
   "outputs": [
    {
     "name": "stderr",
     "output_type": "stream",
     "text": [
      "100%|██████████| 2975/2975 [04:15<00:00, 11.64it/s]\n",
      "100%|██████████| 500/500 [00:42<00:00, 11.66it/s]\n",
      "100%|██████████| 1525/1525 [02:11<00:00, 11.60it/s]\n"
     ]
    }
   ],
   "source": [
    "for split in ['train', 'val', 'test']:\n",
    "    for img in tqdm(images[split]):\n",
    "        process_image(img, (ds_path / 'images_240' / split), (960 // 2, 480 // 2))"
   ]
  },
  {
   "cell_type": "code",
   "execution_count": 8,
   "metadata": {},
   "outputs": [
    {
     "name": "stderr",
     "output_type": "stream",
     "text": [
      "100%|██████████| 2975/2975 [10:01<00:00,  4.94it/s]\n",
      "100%|██████████| 500/500 [01:40<00:00,  4.99it/s]\n",
      "100%|██████████| 1525/1525 [05:08<00:00,  4.94it/s]\n"
     ]
    }
   ],
   "source": [
    "for split in ['train', 'val', 'test']:\n",
    "    for img in tqdm(images[split]):\n",
    "        process_image(img, (ds_path / 'images_240' / split), (960 // 2, 480 // 2))"
   ]
  },
  {
   "cell_type": "code",
   "execution_count": null,
   "metadata": {},
   "outputs": [],
   "source": []
  }
 ],
 "metadata": {
  "kernelspec": {
   "display_name": "Python 3",
   "language": "python",
   "name": "python3"
  },
  "language_info": {
   "codemirror_mode": {
    "name": "ipython",
    "version": 3
   },
   "file_extension": ".py",
   "mimetype": "text/x-python",
   "name": "python",
   "nbconvert_exporter": "python",
   "pygments_lexer": "ipython3",
   "version": "3.7.4"
  }
 },
 "nbformat": 4,
 "nbformat_minor": 4
}
