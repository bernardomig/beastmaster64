{
 "cells": [
  {
   "cell_type": "code",
   "execution_count": 22,
   "metadata": {},
   "outputs": [],
   "source": [
    "%reload_ext autoreload\n",
    "%autoreload 2\n",
    "%matplotlib inline\n",
    "from fastai import *\n",
    "from fastai.vision import *"
   ]
  },
  {
   "cell_type": "code",
   "execution_count": 23,
   "metadata": {},
   "outputs": [],
   "source": [
    "torch.cuda.set_device(1)"
   ]
  },
  {
   "cell_type": "markdown",
   "metadata": {},
   "source": [
    "## Data"
   ]
  },
  {
   "cell_type": "code",
   "execution_count": 24,
   "metadata": {},
   "outputs": [
    {
     "data": {
      "text/plain": [
       "[PosixPath('/home/deep/.fastai/data/mnist_png/testing'),\n",
       " PosixPath('/home/deep/.fastai/data/mnist_png/training')]"
      ]
     },
     "execution_count": 24,
     "metadata": {},
     "output_type": "execute_result"
    }
   ],
   "source": [
    "path = untar_data(URLs.MNIST)\n",
    "path.ls()"
   ]
  },
  {
   "cell_type": "code",
   "execution_count": 42,
   "metadata": {},
   "outputs": [],
   "source": [
    "il = ImageList.from_folder(path, convert_mode='L')"
   ]
  },
  {
   "cell_type": "code",
   "execution_count": 43,
   "metadata": {},
   "outputs": [
    {
     "data": {
      "text/plain": [
       "PosixPath('/home/deep/.fastai/data/mnist_png/testing/2/995.png')"
      ]
     },
     "execution_count": 43,
     "metadata": {},
     "output_type": "execute_result"
    }
   ],
   "source": [
    "il.items[0]"
   ]
  },
  {
   "cell_type": "code",
   "execution_count": 44,
   "metadata": {},
   "outputs": [],
   "source": [
    "defaults.cmap='binary'"
   ]
  },
  {
   "cell_type": "code",
   "execution_count": 45,
   "metadata": {},
   "outputs": [
    {
     "data": {
      "text/plain": [
       "ImageList (70000 items)\n",
       "Image (1, 28, 28),Image (1, 28, 28),Image (1, 28, 28),Image (1, 28, 28),Image (1, 28, 28)\n",
       "Path: /home/deep/.fastai/data/mnist_png"
      ]
     },
     "execution_count": 45,
     "metadata": {},
     "output_type": "execute_result"
    }
   ],
   "source": [
    "il"
   ]
  },
  {
   "cell_type": "code",
   "execution_count": 46,
   "metadata": {},
   "outputs": [
    {
     "data": {
      "image/png": "[encoded data removed]",
      "text/plain": [
       "<Figure size 216x216 with 1 Axes>"
      ]
     },
     "metadata": {
      "needs_background": "light"
     },
     "output_type": "display_data"
    }
   ],
   "source": [
    "il[0].show()"
   ]
  },
  {
   "cell_type": "code",
   "execution_count": 47,
   "metadata": {},
   "outputs": [],
   "source": [
    "sd = il.split_by_folder(train='training',valid='testing')"
   ]
  },
  {
   "cell_type": "code",
   "execution_count": 48,
   "metadata": {},
   "outputs": [
    {
     "data": {
      "text/plain": [
       "ItemLists;\n",
       "\n",
       "Train: ImageList (60000 items)\n",
       "Image (1, 28, 28),Image (1, 28, 28),Image (1, 28, 28),Image (1, 28, 28),Image (1, 28, 28)\n",
       "Path: /home/deep/.fastai/data/mnist_png;\n",
       "\n",
       "Valid: ImageList (10000 items)\n",
       "Image (1, 28, 28),Image (1, 28, 28),Image (1, 28, 28),Image (1, 28, 28),Image (1, 28, 28)\n",
       "Path: /home/deep/.fastai/data/mnist_png;\n",
       "\n",
       "Test: None"
      ]
     },
     "execution_count": 48,
     "metadata": {},
     "output_type": "execute_result"
    }
   ],
   "source": [
    "sd"
   ]
  },
  {
   "cell_type": "code",
   "execution_count": 49,
   "metadata": {},
   "outputs": [
    {
     "data": {
      "text/plain": [
       "[PosixPath('/home/deep/.fastai/data/mnist_png/training/2'),\n",
       " PosixPath('/home/deep/.fastai/data/mnist_png/training/7'),\n",
       " PosixPath('/home/deep/.fastai/data/mnist_png/training/9'),\n",
       " PosixPath('/home/deep/.fastai/data/mnist_png/training/8'),\n",
       " PosixPath('/home/deep/.fastai/data/mnist_png/training/5'),\n",
       " PosixPath('/home/deep/.fastai/data/mnist_png/training/3'),\n",
       " PosixPath('/home/deep/.fastai/data/mnist_png/training/4'),\n",
       " PosixPath('/home/deep/.fastai/data/mnist_png/training/6'),\n",
       " PosixPath('/home/deep/.fastai/data/mnist_png/training/0'),\n",
       " PosixPath('/home/deep/.fastai/data/mnist_png/training/1')]"
      ]
     },
     "execution_count": 49,
     "metadata": {},
     "output_type": "execute_result"
    }
   ],
   "source": [
    "(path/'training').ls()"
   ]
  },
  {
   "cell_type": "code",
   "execution_count": 50,
   "metadata": {},
   "outputs": [
    {
     "data": {
      "text/plain": [
       "[PosixPath('/home/deep/.fastai/data/mnist_png/training/2'),\n",
       " PosixPath('/home/deep/.fastai/data/mnist_png/training/7'),\n",
       " PosixPath('/home/deep/.fastai/data/mnist_png/training/9'),\n",
       " PosixPath('/home/deep/.fastai/data/mnist_png/training/8'),\n",
       " PosixPath('/home/deep/.fastai/data/mnist_png/training/5'),\n",
       " PosixPath('/home/deep/.fastai/data/mnist_png/training/3'),\n",
       " PosixPath('/home/deep/.fastai/data/mnist_png/training/4'),\n",
       " PosixPath('/home/deep/.fastai/data/mnist_png/training/6'),\n",
       " PosixPath('/home/deep/.fastai/data/mnist_png/training/0'),\n",
       " PosixPath('/home/deep/.fastai/data/mnist_png/training/1')]"
      ]
     },
     "execution_count": 50,
     "metadata": {},
     "output_type": "execute_result"
    }
   ],
   "source": [
    "(path/'training').ls()"
   ]
  },
  {
   "cell_type": "code",
   "execution_count": 51,
   "metadata": {},
   "outputs": [],
   "source": [
    "ll = sd.label_from_folder()"
   ]
  },
  {
   "cell_type": "code",
   "execution_count": 52,
   "metadata": {},
   "outputs": [
    {
     "data": {
      "text/plain": [
       "LabelLists;\n",
       "\n",
       "Train: LabelList (60000 items)\n",
       "x: ImageList\n",
       "Image (1, 28, 28),Image (1, 28, 28),Image (1, 28, 28),Image (1, 28, 28),Image (1, 28, 28)\n",
       "y: CategoryList\n",
       "2,2,2,2,2\n",
       "Path: /home/deep/.fastai/data/mnist_png;\n",
       "\n",
       "Valid: LabelList (10000 items)\n",
       "x: ImageList\n",
       "Image (1, 28, 28),Image (1, 28, 28),Image (1, 28, 28),Image (1, 28, 28),Image (1, 28, 28)\n",
       "y: CategoryList\n",
       "2,2,2,2,2\n",
       "Path: /home/deep/.fastai/data/mnist_png;\n",
       "\n",
       "Test: None"
      ]
     },
     "execution_count": 52,
     "metadata": {},
     "output_type": "execute_result"
    }
   ],
   "source": [
    "ll"
   ]
  },
  {
   "cell_type": "code",
   "execution_count": 53,
   "metadata": {},
   "outputs": [],
   "source": [
    "x, y = ll.train[0] #inputs x and labels y"
   ]
  },
  {
   "cell_type": "code",
   "execution_count": 55,
   "metadata": {},
   "outputs": [
    {
     "name": "stdout",
     "output_type": "stream",
     "text": [
      "2 torch.Size([1, 28, 28])\n"
     ]
    },
    {
     "data": {
      "image/png": "[encoded data removed]",
      "text/plain": [
       "<Figure size 216x216 with 1 Axes>"
      ]
     },
     "metadata": {
      "needs_background": "light"
     },
     "output_type": "display_data"
    }
   ],
   "source": [
    "x.show()\n",
    "print(y,x.shape)"
   ]
  },
  {
   "cell_type": "code",
   "execution_count": 56,
   "metadata": {},
   "outputs": [],
   "source": [
    "tfms = ([*rand_pad(padding=3,size=28,mode='zeros')],[])"
   ]
  },
  {
   "cell_type": "code",
   "execution_count": 57,
   "metadata": {},
   "outputs": [],
   "source": [
    "ll=ll.transform(tfms)"
   ]
  },
  {
   "cell_type": "code",
   "execution_count": 58,
   "metadata": {},
   "outputs": [],
   "source": [
    "bs=256"
   ]
  },
  {
   "cell_type": "code",
   "execution_count": 59,
   "metadata": {},
   "outputs": [],
   "source": [
    "data=ll.databunch(bs=bs).normalize()"
   ]
  },
  {
   "cell_type": "code",
   "execution_count": 60,
   "metadata": {},
   "outputs": [],
   "source": [
    "x,y = data.train_ds[0]"
   ]
  },
  {
   "cell_type": "code",
   "execution_count": 61,
   "metadata": {},
   "outputs": [
    {
     "name": "stdout",
     "output_type": "stream",
     "text": [
      "2\n"
     ]
    },
    {
     "data": {
      "image/png": "[encoded data removed]",
      "text/plain": [
       "<Figure size 216x216 with 1 Axes>"
      ]
     },
     "metadata": {
      "needs_background": "light"
     },
     "output_type": "display_data"
    }
   ],
   "source": [
    "x.show()\n",
    "print(y)"
   ]
  },
  {
   "cell_type": "code",
   "execution_count": 62,
   "metadata": {},
   "outputs": [
    {
     "data": {
      "image/png": "[encoded data removed]",
      "text/plain": [
       "<Figure size 576x576 with 9 Axes>"
      ]
     },
     "metadata": {
      "needs_background": "light"
     },
     "output_type": "display_data"
    }
   ],
   "source": [
    "def _plot(i,j,ax): \n",
    "    data.train_ds[0][0].show(ax, cmap='gray')\n",
    "plot_multi(_plot, 3, 3, figsize=(8,8))"
   ]
  },
  {
   "cell_type": "code",
   "execution_count": 64,
   "metadata": {},
   "outputs": [
    {
     "data": {
      "text/plain": [
       "(torch.Size([256, 1, 28, 28]), torch.Size([256]))"
      ]
     },
     "execution_count": 64,
     "metadata": {},
     "output_type": "execute_result"
    }
   ],
   "source": [
    "xb,yb=data.one_batch()\n",
    "xb.shape,yb.shape"
   ]
  },
  {
   "cell_type": "code",
   "execution_count": 66,
   "metadata": {},
   "outputs": [
    {
     "data": {
      "image/png": "[encoded data removed]",
      "text/plain": [
       "<Figure size 360x360 with 9 Axes>"
      ]
     },
     "metadata": {
      "needs_background": "light"
     },
     "output_type": "display_data"
    }
   ],
   "source": [
    "data.show_batch(rows=3,figsize=(5,5))"
   ]
  },
  {
   "cell_type": "markdown",
   "metadata": {},
   "source": [
    "## Basic CNN with batchnorm"
   ]
  },
  {
   "cell_type": "code",
   "execution_count": 68,
   "metadata": {},
   "outputs": [],
   "source": [
    "def conv(ni,nf):\n",
    "    return nn.Conv2d(ni,nf, kernel_size=3,stride=2,padding=1)"
   ]
  },
  {
   "cell_type": "code",
   "execution_count": 69,
   "metadata": {},
   "outputs": [],
   "source": [
    "model = nn.Sequential(\n",
    "    conv(1,8), #14 (28,28)/2 --> due to the stride\n",
    "    nn.BatchNorm2d(8),\n",
    "    nn.ReLU(),\n",
    "    conv(8,16), #7 \n",
    "    nn.BatchNorm2d(16),\n",
    "    nn.ReLU(),\n",
    "    conv(16,32), #4\n",
    "    nn.BatchNorm2d(32),\n",
    "    nn.ReLU(),\n",
    "    conv(32,16), #2\n",
    "    nn.BatchNorm2d(16),\n",
    "    nn.ReLU(),\n",
    "    conv(16,10), #1\n",
    "    nn.BatchNorm2d(10),\n",
    "    Flatten() #remove (1,1) grid\n",
    ")"
   ]
  },
  {
   "cell_type": "code",
   "execution_count": 70,
   "metadata": {},
   "outputs": [],
   "source": [
    "learn = Learner(data,model,loss_func=nn.CrossEntropyLoss(),metrics=accuracy)"
   ]
  },
  {
   "cell_type": "code",
   "execution_count": 71,
   "metadata": {},
   "outputs": [
    {
     "data": {
      "text/plain": [
       "Sequential\n",
       "======================================================================\n",
       "Layer (type)         Output Shape         Param #    Trainable \n",
       "======================================================================\n",
       "Conv2d               [8, 14, 14]          80         True      \n",
       "______________________________________________________________________\n",
       "BatchNorm2d          [8, 14, 14]          16         True      \n",
       "______________________________________________________________________\n",
       "ReLU                 [8, 14, 14]          0          False     \n",
       "______________________________________________________________________\n",
       "Conv2d               [16, 7, 7]           1,168      True      \n",
       "______________________________________________________________________\n",
       "BatchNorm2d          [16, 7, 7]           32         True      \n",
       "______________________________________________________________________\n",
       "ReLU                 [16, 7, 7]           0          False     \n",
       "______________________________________________________________________\n",
       "Conv2d               [32, 4, 4]           4,640      True      \n",
       "______________________________________________________________________\n",
       "BatchNorm2d          [32, 4, 4]           64         True      \n",
       "______________________________________________________________________\n",
       "ReLU                 [32, 4, 4]           0          False     \n",
       "______________________________________________________________________\n",
       "Conv2d               [16, 2, 2]           4,624      True      \n",
       "______________________________________________________________________\n",
       "BatchNorm2d          [16, 2, 2]           32         True      \n",
       "______________________________________________________________________\n",
       "ReLU                 [16, 2, 2]           0          False     \n",
       "______________________________________________________________________\n",
       "Conv2d               [10, 1, 1]           1,450      True      \n",
       "______________________________________________________________________\n",
       "BatchNorm2d          [10, 1, 1]           20         True      \n",
       "______________________________________________________________________\n",
       "Flatten              [10]                 0          False     \n",
       "______________________________________________________________________\n",
       "\n",
       "Total params: 12,126\n",
       "Total trainable params: 12,126\n",
       "Total non-trainable params: 0\n",
       "Optimized with 'torch.optim.adam.Adam', betas=(0.9, 0.99)\n",
       "Using true weight decay as discussed in https://www.fast.ai/2018/07/02/adam-weight-decay/ \n",
       "Loss function : CrossEntropyLoss\n",
       "======================================================================\n",
       "Callbacks functions applied "
      ]
     },
     "execution_count": 71,
     "metadata": {},
     "output_type": "execute_result"
    }
   ],
   "source": [
    "learn.summary()"
   ]
  },
  {
   "cell_type": "code",
   "execution_count": 72,
   "metadata": {},
   "outputs": [],
   "source": [
    "xb = xb.cuda()"
   ]
  },
  {
   "cell_type": "code",
   "execution_count": 73,
   "metadata": {},
   "outputs": [
    {
     "data": {
      "text/plain": [
       "torch.Size([256, 10])"
      ]
     },
     "execution_count": 73,
     "metadata": {},
     "output_type": "execute_result"
    }
   ],
   "source": [
    "model(xb).shape"
   ]
  },
  {
   "cell_type": "code",
   "execution_count": null,
   "metadata": {},
   "outputs": [],
   "source": [
    "learn.lr_find()"
   ]
  },
  {
   "cell_type": "code",
   "execution_count": 77,
   "metadata": {},
   "outputs": [
    {
     "data": {
      "image/png": "[encoded data removed]",
      "text/plain": [
       "<Figure size 432x288 with 1 Axes>"
      ]
     },
     "metadata": {
      "needs_background": "light"
     },
     "output_type": "display_data"
    }
   ],
   "source": [
    "learn.recorder.plot()"
   ]
  },
  {
   "cell_type": "code",
   "execution_count": 78,
   "metadata": {},
   "outputs": [
    {
     "data": {
      "text/html": [
       "<table border=\"1\" class=\"dataframe\">\n",
       "  <thead>\n",
       "    <tr style=\"text-align: left;\">\n",
       "      <th>epoch</th>\n",
       "      <th>train_loss</th>\n",
       "      <th>valid_loss</th>\n",
       "      <th>accuracy</th>\n",
       "      <th>time</th>\n",
       "    </tr>\n",
       "  </thead>\n",
       "  <tbody>\n",
       "    <tr>\n",
       "      <td>0</td>\n",
       "      <td>0.239165</td>\n",
       "      <td>0.154673</td>\n",
       "      <td>0.949800</td>\n",
       "      <td>00:04</td>\n",
       "    </tr>\n",
       "    <tr>\n",
       "      <td>1</td>\n",
       "      <td>0.119154</td>\n",
       "      <td>0.106242</td>\n",
       "      <td>0.966000</td>\n",
       "      <td>00:04</td>\n",
       "    </tr>\n",
       "    <tr>\n",
       "      <td>2</td>\n",
       "      <td>0.068299</td>\n",
       "      <td>0.038789</td>\n",
       "      <td>0.987600</td>\n",
       "      <td>00:05</td>\n",
       "    </tr>\n",
       "  </tbody>\n",
       "</table>"
      ],
      "text/plain": [
       "<IPython.core.display.HTML object>"
      ]
     },
     "metadata": {},
     "output_type": "display_data"
    }
   ],
   "source": [
    "learn.fit_one_cycle(3,max_lr=0.1)"
   ]
  },
  {
   "cell_type": "markdown",
   "metadata": {},
   "source": [
    "## Refactor"
   ]
  },
  {
   "cell_type": "code",
   "execution_count": 79,
   "metadata": {},
   "outputs": [],
   "source": [
    "def conv2(ni,nf):\n",
    "    return conv_layer(ni,nf,stride=2) "
   ]
  },
  {
   "cell_type": "code",
   "execution_count": 80,
   "metadata": {},
   "outputs": [],
   "source": [
    "model = nn.Sequential(\n",
    "    conv2(1,8),\n",
    "    conv2(8,16),\n",
    "    conv2(16,32),\n",
    "    conv2(32,16),\n",
    "    conv2(16,10),\n",
    "    Flatten()\n",
    ") #Exactly the same NN"
   ]
  },
  {
   "cell_type": "code",
   "execution_count": 82,
   "metadata": {},
   "outputs": [],
   "source": [
    "learn = Learner(data,model,loss_func = nn.CrossEntropyLoss(),metrics=accuracy)"
   ]
  },
  {
   "cell_type": "code",
   "execution_count": 83,
   "metadata": {},
   "outputs": [
    {
     "data": {
      "text/html": [
       "<table border=\"1\" class=\"dataframe\">\n",
       "  <thead>\n",
       "    <tr style=\"text-align: left;\">\n",
       "      <th>epoch</th>\n",
       "      <th>train_loss</th>\n",
       "      <th>valid_loss</th>\n",
       "      <th>accuracy</th>\n",
       "      <th>time</th>\n",
       "    </tr>\n",
       "  </thead>\n",
       "  <tbody>\n",
       "    <tr>\n",
       "      <td>0</td>\n",
       "      <td>0.353899</td>\n",
       "      <td>0.209783</td>\n",
       "      <td>0.941700</td>\n",
       "      <td>00:04</td>\n",
       "    </tr>\n",
       "    <tr>\n",
       "      <td>1</td>\n",
       "      <td>0.176939</td>\n",
       "      <td>0.266380</td>\n",
       "      <td>0.919400</td>\n",
       "      <td>00:04</td>\n",
       "    </tr>\n",
       "    <tr>\n",
       "      <td>2</td>\n",
       "      <td>0.141460</td>\n",
       "      <td>0.131157</td>\n",
       "      <td>0.955100</td>\n",
       "      <td>00:04</td>\n",
       "    </tr>\n",
       "    <tr>\n",
       "      <td>3</td>\n",
       "      <td>0.122442</td>\n",
       "      <td>0.082709</td>\n",
       "      <td>0.973400</td>\n",
       "      <td>00:05</td>\n",
       "    </tr>\n",
       "    <tr>\n",
       "      <td>4</td>\n",
       "      <td>0.103047</td>\n",
       "      <td>0.109995</td>\n",
       "      <td>0.964600</td>\n",
       "      <td>00:05</td>\n",
       "    </tr>\n",
       "    <tr>\n",
       "      <td>5</td>\n",
       "      <td>0.090482</td>\n",
       "      <td>0.054578</td>\n",
       "      <td>0.984100</td>\n",
       "      <td>00:05</td>\n",
       "    </tr>\n",
       "    <tr>\n",
       "      <td>6</td>\n",
       "      <td>0.075359</td>\n",
       "      <td>0.048715</td>\n",
       "      <td>0.985700</td>\n",
       "      <td>00:04</td>\n",
       "    </tr>\n",
       "    <tr>\n",
       "      <td>7</td>\n",
       "      <td>0.059490</td>\n",
       "      <td>0.043001</td>\n",
       "      <td>0.985900</td>\n",
       "      <td>00:04</td>\n",
       "    </tr>\n",
       "    <tr>\n",
       "      <td>8</td>\n",
       "      <td>0.047221</td>\n",
       "      <td>0.026081</td>\n",
       "      <td>0.991000</td>\n",
       "      <td>00:05</td>\n",
       "    </tr>\n",
       "    <tr>\n",
       "      <td>9</td>\n",
       "      <td>0.042694</td>\n",
       "      <td>0.024824</td>\n",
       "      <td>0.991100</td>\n",
       "      <td>00:05</td>\n",
       "    </tr>\n",
       "  </tbody>\n",
       "</table>"
      ],
      "text/plain": [
       "<IPython.core.display.HTML object>"
      ]
     },
     "metadata": {},
     "output_type": "display_data"
    }
   ],
   "source": [
    "learn.fit_one_cycle(10,max_lr=0.1)"
   ]
  },
  {
   "cell_type": "markdown",
   "metadata": {},
   "source": [
    "## Resnet-ish"
   ]
  },
  {
   "cell_type": "code",
   "execution_count": 84,
   "metadata": {},
   "outputs": [],
   "source": [
    "class ResBlock(nn.Module):\n",
    "    def __init__(self,nf):\n",
    "        super().__init__()\n",
    "        self.conv1 = conv_layer(nf,nf)\n",
    "        self.conv2 = conv_layer(nf,nf)\n",
    "        \n",
    "    def forward(self,x):\n",
    "        return x + self.conv2(self.conv1(x))"
   ]
  },
  {
   "cell_type": "code",
   "execution_count": 85,
   "metadata": {},
   "outputs": [
    {
     "name": "stdout",
     "output_type": "stream",
     "text": [
      "Help on function res_block in module fastai.layers:\n",
      "\n",
      "res_block(nf, dense:bool=False, norm_type:Union[fastai.layers.NormType, NoneType]=<NormType.Batch: 1>, bottle:bool=False, **conv_kwargs)\n",
      "    Resnet block of `nf` features. `conv_kwargs` are passed to `conv_layer`.\n",
      "\n"
     ]
    }
   ],
   "source": [
    "help(res_block)"
   ]
  },
  {
   "cell_type": "code",
   "execution_count": 86,
   "metadata": {},
   "outputs": [],
   "source": [
    "model = nn.Sequential(\n",
    "    conv2(1,8),\n",
    "    res_block(8),\n",
    "    conv2(8,16),\n",
    "    res_block(16),\n",
    "    conv2(16,32),\n",
    "    res_block(32),\n",
    "    conv2(32,16),\n",
    "    res_block(16),\n",
    "    conv2(16,10),\n",
    "    Flatten()\n",
    ") #Exactly the same NN"
   ]
  },
  {
   "cell_type": "code",
   "execution_count": 87,
   "metadata": {},
   "outputs": [],
   "source": [
    "def conv_and_res(ni,nf):\n",
    "    return nn.Sequential(conv2(ni,nf),res_block(nf))"
   ]
  },
  {
   "cell_type": "code",
   "execution_count": 89,
   "metadata": {},
   "outputs": [],
   "source": [
    "model = nn.Sequential(\n",
    "    conv_and_res(1,8),\n",
    "    conv_and_res(8,16),\n",
    "    conv_and_res(16,32),\n",
    "    conv_and_res(32,16),\n",
    "    conv2(16,10),\n",
    "    Flatten()\n",
    ")"
   ]
  },
  {
   "cell_type": "code",
   "execution_count": 90,
   "metadata": {},
   "outputs": [],
   "source": [
    "learn = Learner(data,model,loss_func=nn.CrossEntropyLoss(),metrics=accuracy)"
   ]
  },
  {
   "cell_type": "code",
   "execution_count": 91,
   "metadata": {},
   "outputs": [
    {
     "data": {
      "text/html": [],
      "text/plain": [
       "<IPython.core.display.HTML object>"
      ]
     },
     "metadata": {},
     "output_type": "display_data"
    },
    {
     "name": "stdout",
     "output_type": "stream",
     "text": [
      "LR Finder is complete, type {learner_name}.recorder.plot() to see the graph.\n"
     ]
    },
    {
     "data": {
      "image/png": "[encoded data removed]",
      "text/plain": [
       "<Figure size 432x288 with 1 Axes>"
      ]
     },
     "metadata": {
      "needs_background": "light"
     },
     "output_type": "display_data"
    }
   ],
   "source": [
    "learn.lr_find()\n",
    "learn.recorder.plot()"
   ]
  },
  {
   "cell_type": "code",
   "execution_count": 92,
   "metadata": {},
   "outputs": [
    {
     "data": {
      "text/html": [
       "<table border=\"1\" class=\"dataframe\">\n",
       "  <thead>\n",
       "    <tr style=\"text-align: left;\">\n",
       "      <th>epoch</th>\n",
       "      <th>train_loss</th>\n",
       "      <th>valid_loss</th>\n",
       "      <th>accuracy</th>\n",
       "      <th>time</th>\n",
       "    </tr>\n",
       "  </thead>\n",
       "  <tbody>\n",
       "    <tr>\n",
       "      <td>0</td>\n",
       "      <td>0.313016</td>\n",
       "      <td>0.238300</td>\n",
       "      <td>0.935300</td>\n",
       "      <td>00:06</td>\n",
       "    </tr>\n",
       "    <tr>\n",
       "      <td>1</td>\n",
       "      <td>0.119544</td>\n",
       "      <td>0.098161</td>\n",
       "      <td>0.973700</td>\n",
       "      <td>00:06</td>\n",
       "    </tr>\n",
       "    <tr>\n",
       "      <td>2</td>\n",
       "      <td>0.100740</td>\n",
       "      <td>0.076714</td>\n",
       "      <td>0.975500</td>\n",
       "      <td>00:06</td>\n",
       "    </tr>\n",
       "    <tr>\n",
       "      <td>3</td>\n",
       "      <td>0.083096</td>\n",
       "      <td>0.059766</td>\n",
       "      <td>0.981800</td>\n",
       "      <td>00:06</td>\n",
       "    </tr>\n",
       "    <tr>\n",
       "      <td>4</td>\n",
       "      <td>0.069117</td>\n",
       "      <td>0.070666</td>\n",
       "      <td>0.977800</td>\n",
       "      <td>00:06</td>\n",
       "    </tr>\n",
       "    <tr>\n",
       "      <td>5</td>\n",
       "      <td>0.060733</td>\n",
       "      <td>0.047614</td>\n",
       "      <td>0.985200</td>\n",
       "      <td>00:06</td>\n",
       "    </tr>\n",
       "    <tr>\n",
       "      <td>6</td>\n",
       "      <td>0.052343</td>\n",
       "      <td>0.081922</td>\n",
       "      <td>0.974200</td>\n",
       "      <td>00:06</td>\n",
       "    </tr>\n",
       "    <tr>\n",
       "      <td>7</td>\n",
       "      <td>0.041985</td>\n",
       "      <td>0.050746</td>\n",
       "      <td>0.985300</td>\n",
       "      <td>00:05</td>\n",
       "    </tr>\n",
       "    <tr>\n",
       "      <td>8</td>\n",
       "      <td>0.036538</td>\n",
       "      <td>0.025211</td>\n",
       "      <td>0.991700</td>\n",
       "      <td>00:06</td>\n",
       "    </tr>\n",
       "    <tr>\n",
       "      <td>9</td>\n",
       "      <td>0.027906</td>\n",
       "      <td>0.020052</td>\n",
       "      <td>0.993400</td>\n",
       "      <td>00:05</td>\n",
       "    </tr>\n",
       "    <tr>\n",
       "      <td>10</td>\n",
       "      <td>0.020412</td>\n",
       "      <td>0.014566</td>\n",
       "      <td>0.995300</td>\n",
       "      <td>00:05</td>\n",
       "    </tr>\n",
       "    <tr>\n",
       "      <td>11</td>\n",
       "      <td>0.018011</td>\n",
       "      <td>0.014787</td>\n",
       "      <td>0.995300</td>\n",
       "      <td>00:06</td>\n",
       "    </tr>\n",
       "  </tbody>\n",
       "</table>"
      ],
      "text/plain": [
       "<IPython.core.display.HTML object>"
      ]
     },
     "metadata": {},
     "output_type": "display_data"
    }
   ],
   "source": [
    "learn.fit_one_cycle(12,max_lr=0.1)"
   ]
  },
  {
   "cell_type": "code",
   "execution_count": 93,
   "metadata": {},
   "outputs": [
    {
     "data": {
      "text/plain": [
       "Sequential\n",
       "======================================================================\n",
       "Layer (type)         Output Shape         Param #    Trainable \n",
       "======================================================================\n",
       "Conv2d               [8, 14, 14]          72         True      \n",
       "______________________________________________________________________\n",
       "ReLU                 [8, 14, 14]          0          False     \n",
       "______________________________________________________________________\n",
       "BatchNorm2d          [8, 14, 14]          16         True      \n",
       "______________________________________________________________________\n",
       "Conv2d               [8, 14, 14]          576        True      \n",
       "______________________________________________________________________\n",
       "ReLU                 [8, 14, 14]          0          False     \n",
       "______________________________________________________________________\n",
       "BatchNorm2d          [8, 14, 14]          16         True      \n",
       "______________________________________________________________________\n",
       "Conv2d               [8, 14, 14]          576        True      \n",
       "______________________________________________________________________\n",
       "ReLU                 [8, 14, 14]          0          False     \n",
       "______________________________________________________________________\n",
       "BatchNorm2d          [8, 14, 14]          16         True      \n",
       "______________________________________________________________________\n",
       "MergeLayer           [8, 14, 14]          0          False     \n",
       "______________________________________________________________________\n",
       "Conv2d               [16, 7, 7]           1,152      True      \n",
       "______________________________________________________________________\n",
       "ReLU                 [16, 7, 7]           0          False     \n",
       "______________________________________________________________________\n",
       "BatchNorm2d          [16, 7, 7]           32         True      \n",
       "______________________________________________________________________\n",
       "Conv2d               [16, 7, 7]           2,304      True      \n",
       "______________________________________________________________________\n",
       "ReLU                 [16, 7, 7]           0          False     \n",
       "______________________________________________________________________\n",
       "BatchNorm2d          [16, 7, 7]           32         True      \n",
       "______________________________________________________________________\n",
       "Conv2d               [16, 7, 7]           2,304      True      \n",
       "______________________________________________________________________\n",
       "ReLU                 [16, 7, 7]           0          False     \n",
       "______________________________________________________________________\n",
       "BatchNorm2d          [16, 7, 7]           32         True      \n",
       "______________________________________________________________________\n",
       "MergeLayer           [16, 7, 7]           0          False     \n",
       "______________________________________________________________________\n",
       "Conv2d               [32, 4, 4]           4,608      True      \n",
       "______________________________________________________________________\n",
       "ReLU                 [32, 4, 4]           0          False     \n",
       "______________________________________________________________________\n",
       "BatchNorm2d          [32, 4, 4]           64         True      \n",
       "______________________________________________________________________\n",
       "Conv2d               [32, 4, 4]           9,216      True      \n",
       "______________________________________________________________________\n",
       "ReLU                 [32, 4, 4]           0          False     \n",
       "______________________________________________________________________\n",
       "BatchNorm2d          [32, 4, 4]           64         True      \n",
       "______________________________________________________________________\n",
       "Conv2d               [32, 4, 4]           9,216      True      \n",
       "______________________________________________________________________\n",
       "ReLU                 [32, 4, 4]           0          False     \n",
       "______________________________________________________________________\n",
       "BatchNorm2d          [32, 4, 4]           64         True      \n",
       "______________________________________________________________________\n",
       "MergeLayer           [32, 4, 4]           0          False     \n",
       "______________________________________________________________________\n",
       "Conv2d               [16, 2, 2]           4,608      True      \n",
       "______________________________________________________________________\n",
       "ReLU                 [16, 2, 2]           0          False     \n",
       "______________________________________________________________________\n",
       "BatchNorm2d          [16, 2, 2]           32         True      \n",
       "______________________________________________________________________\n",
       "Conv2d               [16, 2, 2]           2,304      True      \n",
       "______________________________________________________________________\n",
       "ReLU                 [16, 2, 2]           0          False     \n",
       "______________________________________________________________________\n",
       "BatchNorm2d          [16, 2, 2]           32         True      \n",
       "______________________________________________________________________\n",
       "Conv2d               [16, 2, 2]           2,304      True      \n",
       "______________________________________________________________________\n",
       "ReLU                 [16, 2, 2]           0          False     \n",
       "______________________________________________________________________\n",
       "BatchNorm2d          [16, 2, 2]           32         True      \n",
       "______________________________________________________________________\n",
       "MergeLayer           [16, 2, 2]           0          False     \n",
       "______________________________________________________________________\n",
       "Conv2d               [10, 1, 1]           1,440      True      \n",
       "______________________________________________________________________\n",
       "ReLU                 [10, 1, 1]           0          False     \n",
       "______________________________________________________________________\n",
       "BatchNorm2d          [10, 1, 1]           20         True      \n",
       "______________________________________________________________________\n",
       "Flatten              [10]                 0          False     \n",
       "______________________________________________________________________\n",
       "\n",
       "Total params: 41,132\n",
       "Total trainable params: 41,132\n",
       "Total non-trainable params: 0\n",
       "Optimized with 'torch.optim.adam.Adam', betas=(0.9, 0.99)\n",
       "Using true weight decay as discussed in https://www.fast.ai/2018/07/02/adam-weight-decay/ \n",
       "Loss function : CrossEntropyLoss\n",
       "======================================================================\n",
       "Callbacks functions applied "
      ]
     },
     "execution_count": 93,
     "metadata": {},
     "output_type": "execute_result"
    }
   ],
   "source": [
    "learn.summary()"
   ]
  },
  {
   "cell_type": "code",
   "execution_count": null,
   "metadata": {},
   "outputs": [],
   "source": []
  }
 ],
 "metadata": {
  "kernelspec": {
   "display_name": "Python 3",
   "language": "python",
   "name": "python3"
  },
  "language_info": {
   "codemirror_mode": {
    "name": "ipython",
    "version": 3
   },
   "file_extension": ".py",
   "mimetype": "text/x-python",
   "name": "python",
   "nbconvert_exporter": "python",
   "pygments_lexer": "ipython3",
   "version": "3.6.8"
  }
 },
 "nbformat": 4,
 "nbformat_minor": 4
}
