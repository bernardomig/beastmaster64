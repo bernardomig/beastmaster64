{
 "cells": [
  {
   "cell_type": "code",
   "execution_count": 1,
   "metadata": {},
   "outputs": [],
   "source": [
    "%reload_ext autoreload\n",
    "%autoreload 2\n",
    "%matplotlib inline"
   ]
  },
  {
   "cell_type": "code",
   "execution_count": 2,
   "metadata": {},
   "outputs": [],
   "source": [
    "from fastai.text import *"
   ]
  },
  {
   "cell_type": "code",
   "execution_count": 3,
   "metadata": {},
   "outputs": [],
   "source": [
    "torch.cuda.set_device(1)"
   ]
  },
  {
   "cell_type": "markdown",
   "metadata": {},
   "source": [
    "### Preparing the data"
   ]
  },
  {
   "cell_type": "code",
   "execution_count": 4,
   "metadata": {},
   "outputs": [
    {
     "data": {
      "text/plain": [
       "[PosixPath('/home/deep/.fastai/data/imdb_sample/texts.csv'),\n",
       " PosixPath('/home/deep/.fastai/data/imdb_sample/data_save.pkl')]"
      ]
     },
     "execution_count": 4,
     "metadata": {},
     "output_type": "execute_result"
    }
   ],
   "source": [
    "path = untar_data(URLs.IMDB_SAMPLE)\n",
    "path.ls()"
   ]
  },
  {
   "cell_type": "code",
   "execution_count": 5,
   "metadata": {},
   "outputs": [
    {
     "data": {
      "text/html": [
       "<div>\n",
       "<style scoped>\n",
       "    .dataframe tbody tr th:only-of-type {\n",
       "        vertical-align: middle;\n",
       "    }\n",
       "\n",
       "    .dataframe tbody tr th {\n",
       "        vertical-align: top;\n",
       "    }\n",
       "\n",
       "    .dataframe thead th {\n",
       "        text-align: right;\n",
       "    }\n",
       "</style>\n",
       "<table border=\"1\" class=\"dataframe\">\n",
       "  <thead>\n",
       "    <tr style=\"text-align: right;\">\n",
       "      <th></th>\n",
       "      <th>label</th>\n",
       "      <th>text</th>\n",
       "      <th>is_valid</th>\n",
       "    </tr>\n",
       "  </thead>\n",
       "  <tbody>\n",
       "    <tr>\n",
       "      <td>0</td>\n",
       "      <td>negative</td>\n",
       "      <td>Un-bleeping-believable! Meg Ryan doesn't even ...</td>\n",
       "      <td>False</td>\n",
       "    </tr>\n",
       "    <tr>\n",
       "      <td>1</td>\n",
       "      <td>positive</td>\n",
       "      <td>This is a extremely well-made film. The acting...</td>\n",
       "      <td>False</td>\n",
       "    </tr>\n",
       "    <tr>\n",
       "      <td>2</td>\n",
       "      <td>negative</td>\n",
       "      <td>Every once in a long while a movie will come a...</td>\n",
       "      <td>False</td>\n",
       "    </tr>\n",
       "    <tr>\n",
       "      <td>3</td>\n",
       "      <td>positive</td>\n",
       "      <td>Name just says it all. I watched this movie wi...</td>\n",
       "      <td>False</td>\n",
       "    </tr>\n",
       "    <tr>\n",
       "      <td>4</td>\n",
       "      <td>negative</td>\n",
       "      <td>This movie succeeds at being one of the most u...</td>\n",
       "      <td>False</td>\n",
       "    </tr>\n",
       "  </tbody>\n",
       "</table>\n",
       "</div>"
      ],
      "text/plain": [
       "      label                                               text  is_valid\n",
       "0  negative  Un-bleeping-believable! Meg Ryan doesn't even ...     False\n",
       "1  positive  This is a extremely well-made film. The acting...     False\n",
       "2  negative  Every once in a long while a movie will come a...     False\n",
       "3  positive  Name just says it all. I watched this movie wi...     False\n",
       "4  negative  This movie succeeds at being one of the most u...     False"
      ]
     },
     "execution_count": 5,
     "metadata": {},
     "output_type": "execute_result"
    }
   ],
   "source": [
    "df = pd.read_csv(path/'texts.csv')\n",
    "df.head()"
   ]
  },
  {
   "cell_type": "code",
   "execution_count": 6,
   "metadata": {},
   "outputs": [
    {
     "data": {
      "text/plain": [
       "'This is a extremely well-made film. The acting, script and camera-work are all first-rate. The music is good, too, though it is mostly early in the film, when things are still relatively cheery. There are no really superstars in the cast, though several faces will be familiar. The entire cast does an excellent job with the script.<br /><br />But it is hard to watch, because there is no good end to a situation like the one presented. It is now fashionable to blame the British for setting Hindus and Muslims against each other, and then cruelly separating them into two countries. There is some merit in this view, but it\\'s also true that no one forced Hindus and Muslims in the region to mistreat each other as they did around the time of partition. It seems more likely that the British simply saw the tensions between the religions and were clever enough to exploit them to their own ends.<br /><br />The result is that there is much cruelty and inhumanity in the situation and this is very unpleasant to remember and to see on the screen. But it is never painted as a black-and-white case. There is baseness and nobility on both sides, and also the hope for change in the younger generation.<br /><br />There is redemption of a sort, in the end, when Puro has to make a hard choice between a man who has ruined her life, but also truly loved her, and her family which has disowned her, then later come looking for her. But by that point, she has no option that is without great pain for her.<br /><br />This film carries the message that both Muslims and Hindus have their grave faults, and also that both can be dignified and caring people. The reality of partition makes that realisation all the more wrenching, since there can never be real reconciliation across the India/Pakistan border. In that sense, it is similar to \"Mr & Mrs Iyer\".<br /><br />In the end, we were glad to have seen the film, even though the resolution was heartbreaking. If the UK and US could deal with their own histories of racism with this kind of frankness, they would certainly be better off.'"
      ]
     },
     "execution_count": 6,
     "metadata": {},
     "output_type": "execute_result"
    }
   ],
   "source": [
    "df['text'][1]"
   ]
  },
  {
   "cell_type": "code",
   "execution_count": 7,
   "metadata": {},
   "outputs": [],
   "source": [
    "data_lm = TextDataBunch.from_csv(path,'texts.csv')"
   ]
  },
  {
   "cell_type": "code",
   "execution_count": 8,
   "metadata": {},
   "outputs": [],
   "source": [
    "data_lm.save()"
   ]
  },
  {
   "cell_type": "code",
   "execution_count": 9,
   "metadata": {},
   "outputs": [],
   "source": [
    "data=load_data(path)"
   ]
  },
  {
   "cell_type": "markdown",
   "metadata": {},
   "source": [
    "\n",
    "#### Tokenization and numericalization are made in order to turn the text into to numbers. Later, these numbers are involved in mathematical functions."
   ]
  },
  {
   "cell_type": "markdown",
   "metadata": {},
   "source": [
    "## Tokenization"
   ]
  },
  {
   "cell_type": "markdown",
   "metadata": {},
   "source": [
    "The first step of processing we make the texts go through is to split the raw sentences into words, or more exactly tokens. The easiest way to do this would be to split the string on spaces, but we can be smarter:\n",
    "\n",
    "1. we need to take care of punctuation\n",
    "2. some words are contractions of two different words, like isn't or don't\n",
    "3. we may need to clean some parts of our texts, if there's HTML code for instance\n",
    "\n",
    "To see what the tokenizer had done behind the scenes, let's have a look at a few texts in a batch."
   ]
  },
  {
   "cell_type": "code",
   "execution_count": 10,
   "metadata": {},
   "outputs": [
    {
     "data": {
      "text/html": [
       "<table border=\"1\" class=\"dataframe\">\n",
       "  <thead>\n",
       "    <tr style=\"text-align: right;\">\n",
       "      <th>text</th>\n",
       "      <th>target</th>\n",
       "    </tr>\n",
       "  </thead>\n",
       "  <tbody>\n",
       "    <tr>\n",
       "      <td>xxbos xxup the xxup shop xxup around xxup the xxup corner is one of the sweetest and most feel - good romantic comedies ever made . xxmaj there 's just no getting around that , and it 's hard to actually put one 's feeling for this film into words . xxmaj it 's not one of those films that tries too hard , nor does it come up with</td>\n",
       "      <td>positive</td>\n",
       "    </tr>\n",
       "    <tr>\n",
       "      <td>xxbos xxmaj now that xxmaj che(2008 ) has finished its relatively short xxmaj australian cinema run ( extremely limited xxunk screen in xxmaj sydney , after xxunk ) , i can xxunk join both xxunk of \" xxmaj at xxmaj the xxmaj movies \" in taking xxmaj steven xxmaj soderbergh to task . \\n \\n  xxmaj it 's usually satisfying to watch a film director change his style /</td>\n",
       "      <td>negative</td>\n",
       "    </tr>\n",
       "    <tr>\n",
       "      <td>xxbos xxmaj many neglect that this is n't just a classic due to the fact that it 's the first xxup 3d game , or even the first xxunk - up . xxmaj it 's also one of the first stealth games , one of the xxunk definitely the first ) truly claustrophobic games , and just a pretty well - rounded xxunk experience in general . xxmaj with graphics</td>\n",
       "      <td>positive</td>\n",
       "    </tr>\n",
       "    <tr>\n",
       "      <td>xxbos i really wanted to love this show . i truly , honestly did . \\n \\n  xxmaj for the first time , gay viewers get their own version of the \" xxmaj the xxmaj bachelor \" . xxmaj with the help of his obligatory \" hag \" xxmaj xxunk , xxmaj james , a good looking , well - to - do thirty - something has the chance</td>\n",
       "      <td>negative</td>\n",
       "    </tr>\n",
       "    <tr>\n",
       "      <td>xxbos xxmaj to review this movie , i without any doubt would have to quote that memorable scene in xxmaj tarantino 's \" xxmaj pulp xxmaj fiction \" ( xxunk ) when xxmaj jules and xxmaj vincent are talking about xxmaj mia xxmaj wallace and what she does for a living . xxmaj jules tells xxmaj vincent that the \" xxmaj only thing she did worthwhile was pilot \" .</td>\n",
       "      <td>negative</td>\n",
       "    </tr>\n",
       "  </tbody>\n",
       "</table>"
      ],
      "text/plain": [
       "<IPython.core.display.HTML object>"
      ]
     },
     "metadata": {},
     "output_type": "display_data"
    }
   ],
   "source": [
    "data = TextClasDataBunch.from_csv(path,'texts.csv')\n",
    "data.show_batch()"
   ]
  },
  {
   "cell_type": "markdown",
   "metadata": {},
   "source": [
    "## Numericalization "
   ]
  },
  {
   "cell_type": "markdown",
   "metadata": {},
   "source": [
    "Once we have extracted tokens from our texts, we convert to integers by creating a list of all the words used. We only keep the ones that appear at least twice with a maximum vocabulary size of 60,000 (by default) and replace the ones that don't make the cut by the unknown token UNK."
   ]
  },
  {
   "cell_type": "code",
   "execution_count": 11,
   "metadata": {},
   "outputs": [
    {
     "data": {
      "text/plain": [
       "['xxunk',\n",
       " 'xxpad',\n",
       " 'xxbos',\n",
       " 'xxeos',\n",
       " 'xxfld',\n",
       " 'xxmaj',\n",
       " 'xxup',\n",
       " 'xxrep',\n",
       " 'xxwrep',\n",
       " 'the',\n",
       " ',']"
      ]
     },
     "execution_count": 11,
     "metadata": {},
     "output_type": "execute_result"
    }
   ],
   "source": [
    "data.vocab.itos[:11]"
   ]
  },
  {
   "cell_type": "code",
   "execution_count": 12,
   "metadata": {},
   "outputs": [
    {
     "data": {
      "text/plain": [
       "Text xxbos xxmaj if you liked watching xxmaj mel xxmaj xxunk in xxmaj million xxmaj dollar xxmaj hotel then you might enjoy watching xxmaj burt xxmaj reynolds in yet another film so bad it could never be distributed . i can only xxunk to the xxup dvd version so maybe the xxup vhs version is better quality wise but the movies night and dark scenes have been so poorly done that xxunk seems red . i first thought my xxup dvd players was messed up . xxmaj it was n't . xxmaj if you insist on watching it i recommend you adjust the color on your xxup tv until it is black and white . xxmaj if you do n't you will never be able to get through the film . xxmaj if you do it will simply remind you of a poor film students attempt to xxunk the style of xxmaj pulp xxmaj fiction ."
      ]
     },
     "execution_count": 12,
     "metadata": {},
     "output_type": "execute_result"
    }
   ],
   "source": [
    "data.train_ds[0][0]"
   ]
  },
  {
   "cell_type": "code",
   "execution_count": 13,
   "metadata": {},
   "outputs": [
    {
     "data": {
      "text/plain": [
       "array([   2,    5,   59,   33,  369,  168,    5, 3778,    5,    0])"
      ]
     },
     "execution_count": 13,
     "metadata": {},
     "output_type": "execute_result"
    }
   ],
   "source": [
    "data.train_ds[0][0].data[:10]"
   ]
  },
  {
   "cell_type": "markdown",
   "metadata": {},
   "source": [
    "### With the data block API"
   ]
  },
  {
   "cell_type": "code",
   "execution_count": 14,
   "metadata": {},
   "outputs": [],
   "source": [
    "data = (TextList.from_csv(path, 'texts.csv', cols='text')\n",
    "                .split_from_df(col=2)\n",
    "                .label_from_df(cols=0)\n",
    "                .databunch())"
   ]
  },
  {
   "cell_type": "markdown",
   "metadata": {},
   "source": [
    "## Language Model"
   ]
  },
  {
   "cell_type": "code",
   "execution_count": 15,
   "metadata": {},
   "outputs": [],
   "source": [
    "bs=48"
   ]
  },
  {
   "cell_type": "code",
   "execution_count": 16,
   "metadata": {},
   "outputs": [],
   "source": [
    "path=untar_data(URLs.IMDB)"
   ]
  },
  {
   "cell_type": "code",
   "execution_count": 17,
   "metadata": {},
   "outputs": [
    {
     "data": {
      "text/plain": [
       "[PosixPath('/home/deep/.fastai/data/imdb/train/neg'),\n",
       " PosixPath('/home/deep/.fastai/data/imdb/train/unsupBow.feat'),\n",
       " PosixPath('/home/deep/.fastai/data/imdb/train/pos'),\n",
       " PosixPath('/home/deep/.fastai/data/imdb/train/labeledBow.feat')]"
      ]
     },
     "execution_count": 17,
     "metadata": {},
     "output_type": "execute_result"
    }
   ],
   "source": [
    "(path/'train').ls()"
   ]
  },
  {
   "cell_type": "code",
   "execution_count": 18,
   "metadata": {},
   "outputs": [],
   "source": [
    "data_lm = (TextList.from_folder(path)\n",
    "           #Inputs: all the text files in path\n",
    "            .filter_by_folder(include=['train', 'test', 'unsup']) \n",
    "           #We may have other temp folders that contain text files so we only keep what's in train and test\n",
    "            .split_by_rand_pct(0.1)\n",
    "           #We randomly split and keep 10% (10,000 reviews) for validation\n",
    "            .label_for_lm()           \n",
    "           #We want to do a language model so we label accordingly\n",
    "            .databunch(bs=bs))\n",
    "data_lm.save('data_lm.pkl')"
   ]
  },
  {
   "cell_type": "code",
   "execution_count": 19,
   "metadata": {},
   "outputs": [],
   "source": [
    "data_lm = load_data(path, 'data_lm.pkl', bs=bs)"
   ]
  },
  {
   "cell_type": "code",
   "execution_count": 20,
   "metadata": {},
   "outputs": [
    {
     "data": {
      "text/html": [
       "<table border=\"1\" class=\"dataframe\">\n",
       "  <thead>\n",
       "    <tr style=\"text-align: right;\">\n",
       "      <th>idx</th>\n",
       "      <th>text</th>\n",
       "    </tr>\n",
       "  </thead>\n",
       "  <tbody>\n",
       "    <tr>\n",
       "      <td>0</td>\n",
       "      <td>original script that xxmaj david xxmaj dhawan has worked on . xxmaj this one was a complete bit y bit rip off xxmaj hitch . i have nothing against remakes as such , but this one is just so lousy that it makes you even hate the original one ( which was pretty decent ) . i fail to understand what actors like xxmaj salman and xxmaj govinda saw in</td>\n",
       "    </tr>\n",
       "    <tr>\n",
       "      <td>1</td>\n",
       "      <td>\" banned film \" . i was very disappointed . \\n \\n  xxmaj cannibal xxmaj ferox does not work because it is so campy and fake . xxmaj most of the time the camera does not show you the \" shocking \" stabs , chops , slicing - you just see the aftermath . ( xxmaj they do show a breast hooking in detail ) . xxmaj the special</td>\n",
       "    </tr>\n",
       "    <tr>\n",
       "      <td>2</td>\n",
       "      <td>if improbable ... and then we go right into the movie which takes improbable to new levels . xxmaj of course this is a lame remake of the 1979 thriller starring xxmaj carol xxmaj kane as the babysitter xxmaj jill xxmaj johnson xxrep 4 . now xxmaj jill is some chick that ran her cell phone minutes up so high her evil parents are punishing her by making her work</td>\n",
       "    </tr>\n",
       "    <tr>\n",
       "      <td>3</td>\n",
       "      <td>even though the caller occasionally drops into his normal voice ) , the audience always knows : no suspense . xxmaj each call rattles her more and more . \\n \\n  xxmaj the ending was unexpected for me , so maybe gets points for not going with the obvious , but i 'm not sure i cared for it . xxbos a long time ago , way back in</td>\n",
       "    </tr>\n",
       "    <tr>\n",
       "      <td>4</td>\n",
       "      <td>it 's good for an xxmaj adamson film ? xxmaj well , the story is n't all bad and he was able to build tension very well . xxmaj many false alarms early on made my heart race a bit . xxmaj also , the car crash , while irrelevant , came off pretty well and was practically big - budget for xxmaj adamson . \\n \\n  xxmaj overall</td>\n",
       "    </tr>\n",
       "  </tbody>\n",
       "</table>"
      ],
      "text/plain": [
       "<IPython.core.display.HTML object>"
      ]
     },
     "metadata": {},
     "output_type": "display_data"
    }
   ],
   "source": [
    "data_lm.show_batch()"
   ]
  },
  {
   "cell_type": "code",
   "execution_count": 21,
   "metadata": {},
   "outputs": [],
   "source": [
    "learn = language_model_learner(data_lm,AWD_LSTM,drop_mult=0.3)"
   ]
  },
  {
   "cell_type": "code",
   "execution_count": 22,
   "metadata": {},
   "outputs": [
    {
     "data": {
      "text/html": [],
      "text/plain": [
       "<IPython.core.display.HTML object>"
      ]
     },
     "metadata": {},
     "output_type": "display_data"
    },
    {
     "name": "stdout",
     "output_type": "stream",
     "text": [
      "LR Finder is complete, type {learner_name}.recorder.plot() to see the graph.\n"
     ]
    },
    {
     "data": {
      "image/png": "[encoded data removed]",
      "text/plain": [
       "<Figure size 432x288 with 1 Axes>"
      ]
     },
     "metadata": {
      "needs_background": "light"
     },
     "output_type": "display_data"
    }
   ],
   "source": [
    "learn.lr_find()\n",
    "learn.recorder.plot(skip_end = 15)"
   ]
  },
  {
   "cell_type": "code",
   "execution_count": 37,
   "metadata": {},
   "outputs": [
    {
     "data": {
      "text/html": [
       "<table border=\"1\" class=\"dataframe\">\n",
       "  <thead>\n",
       "    <tr style=\"text-align: left;\">\n",
       "      <th>epoch</th>\n",
       "      <th>train_loss</th>\n",
       "      <th>valid_loss</th>\n",
       "      <th>accuracy</th>\n",
       "      <th>time</th>\n",
       "    </tr>\n",
       "  </thead>\n",
       "  <tbody>\n",
       "    <tr>\n",
       "      <td>0</td>\n",
       "      <td>4.145401</td>\n",
       "      <td>4.017704</td>\n",
       "      <td>0.296283</td>\n",
       "      <td>17:37</td>\n",
       "    </tr>\n",
       "  </tbody>\n",
       "</table>"
      ],
      "text/plain": [
       "<IPython.core.display.HTML object>"
      ]
     },
     "metadata": {},
     "output_type": "display_data"
    }
   ],
   "source": [
    "learn.fit_one_cycle(1,0.8e-2,moms=(0.8,0.7))"
   ]
  },
  {
   "cell_type": "code",
   "execution_count": 40,
   "metadata": {},
   "outputs": [],
   "source": [
    "learn.save('fit_head')"
   ]
  },
  {
   "cell_type": "code",
   "execution_count": 41,
   "metadata": {},
   "outputs": [],
   "source": [
    "learn.load('fit_head');"
   ]
  },
  {
   "cell_type": "code",
   "execution_count": 42,
   "metadata": {},
   "outputs": [],
   "source": [
    "learn.unfreeze()"
   ]
  },
  {
   "cell_type": "code",
   "execution_count": 44,
   "metadata": {},
   "outputs": [
    {
     "data": {
      "text/html": [],
      "text/plain": [
       "<IPython.core.display.HTML object>"
      ]
     },
     "metadata": {},
     "output_type": "display_data"
    },
    {
     "name": "stdout",
     "output_type": "stream",
     "text": [
      "LR Finder is complete, type {learner_name}.recorder.plot() to see the graph.\n"
     ]
    },
    {
     "data": {
      "image/png": "[encoded data removed]",
      "text/plain": [
       "<Figure size 432x288 with 1 Axes>"
      ]
     },
     "metadata": {
      "needs_background": "light"
     },
     "output_type": "display_data"
    }
   ],
   "source": [
    "learn.lr_find()\n",
    "learn.recorder.plot()"
   ]
  },
  {
   "cell_type": "code",
   "execution_count": null,
   "metadata": {},
   "outputs": [
    {
     "data": {
      "text/html": [
       "\n",
       "    <div>\n",
       "        <style>\n",
       "            /* Turns off some styling */\n",
       "            progress {\n",
       "                /* gets rid of default border in Firefox and Opera. */\n",
       "                border: none;\n",
       "                /* Needs to be in here for Safari polyfill so background images work as expected. */\n",
       "                background-size: auto;\n",
       "            }\n",
       "            .progress-bar-interrupted, .progress-bar-interrupted::-webkit-progress-bar {\n",
       "                background: #F44336;\n",
       "            }\n",
       "        </style>\n",
       "      <progress value='5' class='' max='10', style='width:300px; height:20px; vertical-align: middle;'></progress>\n",
       "      50.00% [5/10 1:39:44<1:39:44]\n",
       "    </div>\n",
       "    \n",
       "<table border=\"1\" class=\"dataframe\">\n",
       "  <thead>\n",
       "    <tr style=\"text-align: left;\">\n",
       "      <th>epoch</th>\n",
       "      <th>train_loss</th>\n",
       "      <th>valid_loss</th>\n",
       "      <th>accuracy</th>\n",
       "      <th>time</th>\n",
       "    </tr>\n",
       "  </thead>\n",
       "  <tbody>\n",
       "    <tr>\n",
       "      <td>0</td>\n",
       "      <td>3.866807</td>\n",
       "      <td>3.817917</td>\n",
       "      <td>0.317446</td>\n",
       "      <td>19:52</td>\n",
       "    </tr>\n",
       "    <tr>\n",
       "      <td>1</td>\n",
       "      <td>3.827729</td>\n",
       "      <td>3.780960</td>\n",
       "      <td>0.324246</td>\n",
       "      <td>19:56</td>\n",
       "    </tr>\n",
       "    <tr>\n",
       "      <td>2</td>\n",
       "      <td>3.782219</td>\n",
       "      <td>3.748095</td>\n",
       "      <td>0.328304</td>\n",
       "      <td>19:58</td>\n",
       "    </tr>\n",
       "    <tr>\n",
       "      <td>3</td>\n",
       "      <td>3.747576</td>\n",
       "      <td>3.711583</td>\n",
       "      <td>0.333031</td>\n",
       "      <td>19:58</td>\n",
       "    </tr>\n",
       "    <tr>\n",
       "      <td>4</td>\n",
       "      <td>3.656816</td>\n",
       "      <td>3.681233</td>\n",
       "      <td>0.336439</td>\n",
       "      <td>19:58</td>\n",
       "    </tr>\n",
       "  </tbody>\n",
       "</table><p>\n",
       "\n",
       "    <div>\n",
       "        <style>\n",
       "            /* Turns off some styling */\n",
       "            progress {\n",
       "                /* gets rid of default border in Firefox and Opera. */\n",
       "                border: none;\n",
       "                /* Needs to be in here for Safari polyfill so background images work as expected. */\n",
       "                background-size: auto;\n",
       "            }\n",
       "            .progress-bar-interrupted, .progress-bar-interrupted::-webkit-progress-bar {\n",
       "                background: #F44336;\n",
       "            }\n",
       "        </style>\n",
       "      <progress value='2213' class='' max='8047', style='width:300px; height:20px; vertical-align: middle;'></progress>\n",
       "      27.50% [2213/8047 05:16<13:54 3.5417]\n",
       "    </div>\n",
       "    "
      ],
      "text/plain": [
       "<IPython.core.display.HTML object>"
      ]
     },
     "metadata": {},
     "output_type": "display_data"
    }
   ],
   "source": [
    "learn.fit_one_cycle(10,1e-3,moms=(0.8,0.7))"
   ]
  },
  {
   "cell_type": "code",
   "execution_count": null,
   "metadata": {},
   "outputs": [],
   "source": [
    "learn.save('fine_tuned')"
   ]
  },
  {
   "cell_type": "code",
   "execution_count": null,
   "metadata": {},
   "outputs": [],
   "source": [
    "learn.load('fine_tuned');"
   ]
  },
  {
   "cell_type": "code",
   "execution_count": null,
   "metadata": {},
   "outputs": [],
   "source": [
    "TEXT = \"I liked this movie because\"\n",
    "N_WORDS = 40\n",
    "N_SENTENCES = 2"
   ]
  },
  {
   "cell_type": "code",
   "execution_count": null,
   "metadata": {},
   "outputs": [],
   "source": [
    "print(\"\\n\".join(learn.predict(TEXT, N_WORDS, temperature=0.75) for _ in range(N_SENTENCES)))"
   ]
  },
  {
   "cell_type": "code",
   "execution_count": null,
   "metadata": {},
   "outputs": [],
   "source": [
    "learn.save_encoder('fine_tuned_enc')"
   ]
  },
  {
   "cell_type": "markdown",
   "metadata": {},
   "source": [
    "## Classifier"
   ]
  },
  {
   "cell_type": "code",
   "execution_count": 24,
   "metadata": {},
   "outputs": [],
   "source": [
    "path = untar_data(URLs.IMDB)"
   ]
  },
  {
   "cell_type": "code",
   "execution_count": 25,
   "metadata": {},
   "outputs": [],
   "source": [
    "data_clas = (TextList.from_folder(path, vocab=data_lm.vocab)\n",
    "             #grab all the text files in path\n",
    "             .split_by_folder(valid='test')\n",
    "             #split by train and valid folder (that only keeps 'train' and 'test' so no need to filter)\n",
    "             .label_from_folder(classes=['neg', 'pos'])\n",
    "             #label them all with their folders\n",
    "             .databunch(bs=bs))\n",
    "\n",
    "data_clas.save('data_clas.pkl')"
   ]
  },
  {
   "cell_type": "code",
   "execution_count": 26,
   "metadata": {},
   "outputs": [],
   "source": [
    "data_clas = load_data(path, 'data_clas.pkl', bs=bs)"
   ]
  },
  {
   "cell_type": "code",
   "execution_count": 27,
   "metadata": {},
   "outputs": [
    {
     "data": {
      "text/html": [
       "<table border=\"1\" class=\"dataframe\">\n",
       "  <thead>\n",
       "    <tr style=\"text-align: right;\">\n",
       "      <th>text</th>\n",
       "      <th>target</th>\n",
       "    </tr>\n",
       "  </thead>\n",
       "  <tbody>\n",
       "    <tr>\n",
       "      <td>xxbos xxmaj match 1 : xxmaj tag xxmaj team xxmaj table xxmaj match xxmaj bubba xxmaj ray and xxmaj spike xxmaj dudley vs xxmaj eddie xxmaj guerrero and xxmaj chris xxmaj benoit xxmaj bubba xxmaj ray and xxmaj spike xxmaj dudley started things off with a xxmaj tag xxmaj team xxmaj table xxmaj match against xxmaj eddie xxmaj guerrero and xxmaj chris xxmaj benoit . xxmaj according to the rules</td>\n",
       "      <td>pos</td>\n",
       "    </tr>\n",
       "    <tr>\n",
       "      <td>xxbos xxup the xxup shop xxup around xxup the xxup corner is one of the sweetest and most feel - good romantic comedies ever made . xxmaj there 's just no getting around that , and it 's hard to actually put one 's feeling for this film into words . xxmaj it 's not one of those films that tries too hard , nor does it come up with</td>\n",
       "      <td>pos</td>\n",
       "    </tr>\n",
       "    <tr>\n",
       "      <td>xxbos xxmaj by 1987 xxmaj hong xxmaj kong had given the world such films as xxmaj sammo xxmaj hung 's ` xxmaj encounters of the xxmaj spooky xxmaj kind ' xxmaj chow xxmaj yun xxmaj fat in xxmaj john xxmaj woo 's iconic ` a xxmaj better xxmaj tomorrow ' , ` xxmaj zu xxmaj warriors ' and the classic ` xxmaj mr xxmaj vampire ' . xxmaj jackie xxmaj</td>\n",
       "      <td>pos</td>\n",
       "    </tr>\n",
       "    <tr>\n",
       "      <td>xxbos 8 xxmaj simple xxmaj rules for xxmaj dating xxmaj my xxmaj teenage xxmaj daughter had an auspicious start . xxmaj the supremely - talented xxmaj tom xxmaj shadyac was involved in the project . xxmaj this meant that the comedy would be nothing less of spectacular , and that 's exactly what happened : the show remains one of the freshest , funniest , wittiest shows made in a</td>\n",
       "      <td>pos</td>\n",
       "    </tr>\n",
       "    <tr>\n",
       "      <td>xxbos xxmaj the vigilante has long held a fascination for audiences , inasmuch as it evokes a sense of swift , sure justice ; good triumphs over evil and the bad guy gets his deserts . xxmaj it is , in fact , one of the things that has made the character of xxmaj dirty xxmaj harry xxmaj callahan ( as played by xxmaj clint xxmaj eastwood ) so popular</td>\n",
       "      <td>pos</td>\n",
       "    </tr>\n",
       "  </tbody>\n",
       "</table>"
      ],
      "text/plain": [
       "<IPython.core.display.HTML object>"
      ]
     },
     "metadata": {},
     "output_type": "display_data"
    }
   ],
   "source": [
    "data_clas.show_batch()"
   ]
  },
  {
   "cell_type": "code",
   "execution_count": 37,
   "metadata": {},
   "outputs": [
    {
     "data": {
      "text/plain": [
       "RNNLearner(data=TextClasDataBunch;\n",
       "\n",
       "Train: LabelList (25000 items)\n",
       "x: TextList\n",
       "xxbos i was bored , around 10 pm , so i watched this movie . xxmaj and i could not stop laughing . xxmaj everything was so ridiculous . xxmaj the way the kids were acting like they were older than 11 just cracked me up . xxmaj one of the kids had a ring , that supposedly killed people after 3 or so years . xxmaj it gave me the impression that he wanted to be a gangster . \n",
       " \n",
       "  xxmaj it 's pretty hard to take little kids seriously , especially when it has to do with eating worms . xxmaj they act like everything is such a big deal , like if xxmaj billy ( the main character ) does n't eat the worms then the world will end . \n",
       " \n",
       "  xxmaj this is a good movie for little kids ( excluding the fact that a 5 year old says ' penis ' ) , but not for teens or adults who do n't want to waste their time .,xxbos xxmaj bill ( xxmaj buddy xxmaj rogers ) is sent to xxmaj new xxmaj york by his uncle ( xxmaj richard xxmaj tucker ) to experience life before he inherits $ xxunk . xxmaj his uncle has paid 3 women xxmaj jacqui ( xxmaj kathryn xxmaj crawford ) , xxmaj maxine ( xxmaj josephine xxmaj dunn ) and xxmaj pauline ( xxmaj carole xxmaj lombard ) to chaperone him and ensure that he does not fall foul of gold - diggers . xxmaj one such lady xxmaj cleo ( xxmaj geneva xxmaj mitchell ) turns up on the scene to the xxunk of the women . xxmaj we follow the tale as the girls are offered more money to appear in a show instead of their escorting role that they have agreed to carry out for the 3 months that xxmaj bill is in xxmaj new xxmaj york , while xxmaj bill meets with xxmaj cleo and another woman . xxmaj at the end , love is in the air for xxmaj bill and one other xxrep 13 . \n",
       " \n",
       "  xxmaj the picture quality and sound quality are poor in this film . xxmaj the story is interspersed with musical numbers but the songs are bad and xxmaj kathryn xxmaj crawford has a terrible voice . xxmaj rogers is n't that good either . xxmaj he 's pleasant enough but only really comes to life when playing the drums or trombone . xxmaj there is a very irritating character who plays a cab driver ( xxmaj roscoe xxmaj karns ) and the film is just dull .,xxbos ( xxunk one truly memorable part of this otherwise rather dull and tepid bit of xxmaj british cuisine is xxmaj steiner 's henna rinse , one of the worst dye jobs ever . xxmaj that , and the magnificent caterpillar eyebrows on the old evil dude who was trying to steal xxmaj steiner 's invention . xxup mst3 k does an admirable job of making a wretchedly boring and grey film funny . i particularly like it when xxmaj crow kills xxmaj mike with his ' touch of death ' , and when he revives him in the theatre , xxmaj mike cries \" xxmaj guys , i died , i saw eternal truth and beauty ! oh , it 's this movie ... \" xxmaj that would be a letdown , having to come back from the afterlife to watch the rest of xxmaj the xxmaj projected xxmaj man . xxmaj the film could make a fortune being sold as a sleep aide . xxmaj some of the puns in the film were wicked : police xxunk ! \" xxunk , is n't it ? \" police xxunk 's lowe , all right \" xxmaj tom xxunk low , right down by the floor ! \" police xxunk i get on ? \" xxmaj tom xxunk 's dead , but knock yourself out \" xxup mst3 k is definitely the only way to watch this snoozer .,xxbos i have seen it . xxmaj it 's not \" good \" but interesting in an understated way . xxmaj the boys in it are quite naturalistic but xxrep 16 . the graphic / gratuitous final gang rape scene is repugnant and -oh yes- the arbitrary insertion of second world war footage is offensive in the way it attempts to compare real horror with this misogynistic contrivance . xxmaj real atrocity is xxunk this film is just atrocious . xxmaj however , the film has a look which can draw you in . xxmaj but it seems to me that is the \" xxmaj emperor 's xxmaj new xxmaj clothes \" , but in fact in reverse . xxmaj the film looks good , but the direction , story , content and final feeling you take away from this film is vacuous . xxmaj if a feeling can be vacuous - this is it .,xxbos xxmaj and i repeat , please do not see this movie ! xxmaj this is more than a review . xxmaj this is a warning . xxmaj this sets the record for the worst , most effortless comedy ever made . xxmaj at least with most of the recent comedies nowadays , the gags are crude and flat , but the writers and directors put in at least some sort of effort into making them funny . i never get tired of repeating one of my favorite xxunk : xxmaj everyone thinks they can do comedy , and only 10 percent of them are right . xxmaj comedy is hard ! xxmaj this is not some genre any fool can play around with . i think it 's atrocious that the filmmakers are comparing this piece of garbage to \" xxmaj kentucky xxmaj fried xxmaj movie . \" xxmaj basically , these bozos are comparing their so - called comic talents to those of the brilliant xxmaj jim xxmaj abrahams and the xxmaj zucker xxmaj brothers . xxmaj come on , i 've seen xxmaj pauly xxmaj shore movies that are 10 times funnier than \" xxmaj the xxmaj underground xxmaj comedy xxmaj movie . \" xxmaj here 's a sample of the comedy for those curious about seeing this movie : xxmaj one sketch involves a superhero dressed like a penis named xxmaj xxunk . xxmaj the whole joke is that he defeats his enemies by squirting them with semen . xxmaj that 's it . xxmaj that 's the whole joke . xxmaj wow . xxmaj this is enough to make xxmaj carrot xxmaj top roll his eyes . xxmaj another sketch involves a man having sex with a dead person in a porn movie . xxmaj and in another sketch , there 's a bag lady beauty contest , in which we 're exposed to the horrible sights of bikini - clad middle - aged women with beer guts and stretch marks . xxmaj plus , making fun of the homeless is more sad than funny . xxmaj it 's a step away from mocking the mentally handicapped . xxmaj the whole movie is supposed to be a satire . i think the filmmakers forgot that a key element of satire ... is xxup truth ! ! ! xxmaj for anybody who actually enjoyed this crap , explain to me what is truthful about xxup any of these gags ! xxmaj some of the sketches might 've sounded funny on paper , but anybody who 's taken any screen writing classes knows that if a sight gag sounds too funny on paper , it probably wo n't be funny on screen . xxmaj if i tell someone about a big , black , muscular gay virgin , who 's saving himself for the right man , he or she would probably laugh . xxmaj but watching the premise played out on screen for about 10 minutes is a complete drag . i hate how whenever people criticize a low - brow comedy like this for not being funny , they 're regarded as stuck - up squares . i just saw \" xxmaj white xxmaj chicks \" recently . xxmaj that 's another low - brow , politically incorrect comedy , but i laughed my head off . xxmaj the most offensive thing about \" xxmaj the xxmaj underground xxmaj comedy xxmaj movie \" is it 's not funny ! xxmaj what the writers and directors do n't understand is that merely being filthy and tasteless does n't work . xxmaj there has to be more ! xxmaj just think of the famous scene from \" xxmaj there 's xxmaj something xxmaj about xxmaj mary \" ( ironically , enough the bozo filmmakers put the xxmaj farrellys on their special thanks list ) . xxmaj the joke about the semen was n't just funny because it involved bodily fluids . xxmaj there was a buildup . xxmaj ben xxmaj stiller was masturbating in the bathroom to make sure he did n't go out on a date with a \" loaded gun . \" xxmaj then he looked around to see where all the semen went after it was released . a knock is on the door , and he has to answer it . xxmaj his date , xxmaj mary , is at the door and that 's when it 's revealed that the semen is hanging off xxmaj ben 's ear . xxmaj in this movie , there are multiple gags involving characters squirting loads of semen at people , with no buildup whatsoever . xxmaj as xxmaj jay xxmaj leno always says , \" xxmaj this comedy thing 's not so easy , is it ? \" xxmaj keep that in mind , xxmaj vince xxmaj offer , 'cause you were n't cut out for this genre ! ! xxmaj the only reason people might laugh at these gags is because they want to feel hip . xxmaj let 's face it , nowadays it 's hip to laugh at anything politically incorrect . i know comedy is subjective ... but this movie should n't be funny to anybody , except maybe the filmmakers themselves . xxmaj as a side note , the movie had to have been made before xxmaj michael xxmaj clarke xxmaj duncan 's fame in movies like \" xxmaj armageddon \" and \" xxmaj the xxmaj green xxmaj mile . \" xxmaj there ca n't be any other reason why an actor of his caliber would volunteer to be part of this amateurish freak show . xxmaj all the others in the cast are either non - actors , has - been actors or b - movie stars . xxmaj karen xxmaj black made a good impression in \" xxmaj five xxmaj easy xxmaj pieces , \" but i do n't think she 's done anything of value ever since . xxmaj slash was probably drugged into being in this film . xxmaj gina xxmaj lee xxmaj xxunk is nothing without \" xxmaj baywatch . \" xxmaj xxunk is the film 's biggest star ( keeping in mind xxmaj duncan was n't famous at the time ) , and there are still probably a ton of people who have n't heard of her -- for good reason . xxmaj usually , i 'm in support of extremely low - budget flicks , but this one deserves to drift into obscurity . i hope to xxmaj lord this does n't become a cult classic ! xxmaj should n't there be a law against distributing crap like this ?\n",
       "y: CategoryList\n",
       "neg,neg,neg,neg,neg\n",
       "Path: /home/deep/.fastai/data/imdb;\n",
       "\n",
       "Valid: LabelList (25000 items)\n",
       "x: TextList\n",
       "xxbos i did n't know what to expect when i started watching this movie , by the end of it i was pulling my hairs out . xxmaj this was one of the most pathetic movies of this year ... in fact , in the last ten years . xxmaj david xxmaj dhawan should just give up his career as a director . i am yet to come across one original script that xxmaj david xxmaj dhawan has worked on . xxmaj this one was a complete bit y bit rip off xxmaj hitch . i have nothing against remakes as such , but this one is just so lousy that it makes you even hate the original one ( which was pretty decent ) . i fail to understand what actors like xxmaj salman and xxmaj govinda saw in this script . i read somewhere , that this was supposed to be xxmaj govinda 's comeback vehicle . xxmaj if that s true , then only xxmaj god can save his career . xxmaj salman just overacted to the hilt . xxmaj govinda who i think is an actor of very high caliber was completely wasted . xxmaj katrina xxmaj kaif and lara xxmaj dutta had nothing to do apart form wearing designer clothes and smiling for no rhyme or reason . xxmaj please stay away form this one !,xxbos xxmaj for several reasons , this movie is simply awful . xxmaj other posters have listed some of this movie 's historical errors . xxmaj well , i have a layman 's knowledge of xxmaj roman history and even i found the inaccuracies flagrant . i usually forgive errors in historical movies because i understand that the purpose is to entertain not educate . xxmaj and shrinking a long saga down to a two hour feature requires some , let 's say , historical license . xxmaj but this movie goes well beyond mere rounding . \n",
       " \n",
       "  xxmaj there 's worse . xxmaj to tell a story from a distant period , the movie uses flashbacks which just make the story more confusing . xxmaj unless viewers have some prior knowledge of the period , they will quickly be lost . xxmaj in addition , the movie was obviously filmed simultaneously in xxmaj italian and xxmaj english with various actors being dubbed later . xxmaj at times , the actors seem as if they were in completely different movies which were then edited together . xxmaj in fact , this is not far wrong . xxmaj the actors were obviously pasted onto a cheesy computer generated ancient xxmaj rome . \n",
       " \n",
       "  xxmaj the only reason i give this boring mess any stars is because i always find xxmaj peter o'toole entertaining . xxmaj but that is no reason to rent it . xxmaj if you are curious about xxmaj roman history , there are much better movies available .,xxbos xxmaj remember those terrible war movies your grandmother forced you to watch 25 or so years ago on your old xxup vhs recorder ? \" xxmaj the xxmaj fallen \" is just a bad executed remake of those movies ! xxmaj the story is terrible , the direction is terrible , the editing is terrible , the music is terrible , and all together make an unbearable nightmare . \n",
       " \n",
       "  xxmaj it is also terribly slow ! xxmaj very slow ! i tried to sleep while watching it but i could n't do it because i had nightmares of it . \n",
       " \n",
       "  xxmaj please do n't watch this movie ! xxmaj it is xxup that bad ! xxmaj ten lines is a lot so i do n't know what else to say . \n",
       " \n",
       "  xxmaj press the eject button xxup now and you wo nt regret it !,xxbos a post - apocalyptic warrior goes off to save some kind of xxmaj nun and on the way meets some cyber - punks on skates who want to kick his ass . xxmaj this is one of the hardest to watch films ever , xxmaj there are scenes with silence that seems to last hours before somebody comes out with the next badly written , badly acted line . xxmaj there are action sequences that keep repeating - and we 're not talking the quickfire 1 - 2 - 3 action repeat on a particularly good kick that was made popular by eastern directors , we 're talking many , many repeats of long , bad fight sequences . xxmaj this is incredibly confusing at first but then quickly becomes annoying as you 're watching a 30 second sequence for the 2nd , 3rd and 4th time . xxmaj any kind of plot or vision is lost within the confusing continuity , the only thing that s keeps this film in the xxunk ( apart from the bet from a friend that i could n't watch it all the way through without begging for it to be turned off and disposed off safely so it may harm no - one else ) is the fact that although painful , this film is unintentionally hilarious , i 'm not at all a fan of those \" so bad that it 's funny \" type of films but at parts i was in tears . xxmaj other points to note are the quality of the sound and picture but this is forgiveable as it 's obvious money was a major problem in the making of this film . xxmaj final verdict - xxmaj king of the \" so bad they 're funny \" genre , anybody having that kind of genre video night should get themselves a copy . xxmaj also lets not forget that it is actually the worst film i 've ever seen .,xxbos i believe that this movie was a terrible waste of my time , and i would know after watching it 5 times in class . this movie does not show what absolutely perfectly happened during these times . no one can truly say that these things happened to the letter . if anything the only good part would be the actors , even tho that they were really really xxunk were reading the script without expression . quite boring . i would rather watch play school . so i would definitely like to never ever see this movie again in my whole life . it is a complete waste of time unless you want your time to be wasted and if you would like to see an unrealistic view of what happened back in 1981 .\n",
       "y: CategoryList\n",
       "neg,neg,neg,neg,neg\n",
       "Path: /home/deep/.fastai/data/imdb;\n",
       "\n",
       "Test: None, model=SequentialRNN(\n",
       "  (0): MultiBatchEncoder(\n",
       "    (module): AWD_LSTM(\n",
       "      (encoder): Embedding(60000, 400, padding_idx=1)\n",
       "      (encoder_dp): EmbeddingDropout(\n",
       "        (emb): Embedding(60000, 400, padding_idx=1)\n",
       "      )\n",
       "      (rnns): ModuleList(\n",
       "        (0): WeightDropout(\n",
       "          (module): LSTM(400, 1152, batch_first=True)\n",
       "        )\n",
       "        (1): WeightDropout(\n",
       "          (module): LSTM(1152, 1152, batch_first=True)\n",
       "        )\n",
       "        (2): WeightDropout(\n",
       "          (module): LSTM(1152, 400, batch_first=True)\n",
       "        )\n",
       "      )\n",
       "      (input_dp): RNNDropout()\n",
       "      (hidden_dps): ModuleList(\n",
       "        (0): RNNDropout()\n",
       "        (1): RNNDropout()\n",
       "        (2): RNNDropout()\n",
       "      )\n",
       "    )\n",
       "  )\n",
       "  (1): PoolingLinearClassifier(\n",
       "    (layers): Sequential(\n",
       "      (0): BatchNorm1d(1200, eps=1e-05, momentum=0.1, affine=True, track_running_stats=True)\n",
       "      (1): Dropout(p=0.2)\n",
       "      (2): Linear(in_features=1200, out_features=50, bias=True)\n",
       "      (3): ReLU(inplace)\n",
       "      (4): BatchNorm1d(50, eps=1e-05, momentum=0.1, affine=True, track_running_stats=True)\n",
       "      (5): Dropout(p=0.1)\n",
       "      (6): Linear(in_features=50, out_features=2, bias=True)\n",
       "    )\n",
       "  )\n",
       "), opt_func=functools.partial(<class 'torch.optim.adam.Adam'>, betas=(0.9, 0.99)), loss_func=FlattenedLoss of CrossEntropyLoss(), metrics=[<function accuracy at 0x7f3853a176a8>], true_wd=True, bn_wd=True, wd=0.01, train_bn=True, path=PosixPath('/home/deep/.fastai/data/imdb'), model_dir='models', callback_fns=[functools.partial(<class 'fastai.basic_train.Recorder'>, add_time=True, silent=False)], callbacks=[RNNTrainer\n",
       "learn: RNNLearner(data=TextClasDataBunch;\n",
       "\n",
       "Train: LabelList (25000 items)\n",
       "x: TextList\n",
       "xxbos i was bored , around 10 pm , so i watched this movie . xxmaj and i could not stop laughing . xxmaj everything was so ridiculous . xxmaj the way the kids were acting like they were older than 11 just cracked me up . xxmaj one of the kids had a ring , that supposedly killed people after 3 or so years . xxmaj it gave me the impression that he wanted to be a gangster . \n",
       " \n",
       "  xxmaj it 's pretty hard to take little kids seriously , especially when it has to do with eating worms . xxmaj they act like everything is such a big deal , like if xxmaj billy ( the main character ) does n't eat the worms then the world will end . \n",
       " \n",
       "  xxmaj this is a good movie for little kids ( excluding the fact that a 5 year old says ' penis ' ) , but not for teens or adults who do n't want to waste their time .,xxbos xxmaj bill ( xxmaj buddy xxmaj rogers ) is sent to xxmaj new xxmaj york by his uncle ( xxmaj richard xxmaj tucker ) to experience life before he inherits $ xxunk . xxmaj his uncle has paid 3 women xxmaj jacqui ( xxmaj kathryn xxmaj crawford ) , xxmaj maxine ( xxmaj josephine xxmaj dunn ) and xxmaj pauline ( xxmaj carole xxmaj lombard ) to chaperone him and ensure that he does not fall foul of gold - diggers . xxmaj one such lady xxmaj cleo ( xxmaj geneva xxmaj mitchell ) turns up on the scene to the xxunk of the women . xxmaj we follow the tale as the girls are offered more money to appear in a show instead of their escorting role that they have agreed to carry out for the 3 months that xxmaj bill is in xxmaj new xxmaj york , while xxmaj bill meets with xxmaj cleo and another woman . xxmaj at the end , love is in the air for xxmaj bill and one other xxrep 13 . \n",
       " \n",
       "  xxmaj the picture quality and sound quality are poor in this film . xxmaj the story is interspersed with musical numbers but the songs are bad and xxmaj kathryn xxmaj crawford has a terrible voice . xxmaj rogers is n't that good either . xxmaj he 's pleasant enough but only really comes to life when playing the drums or trombone . xxmaj there is a very irritating character who plays a cab driver ( xxmaj roscoe xxmaj karns ) and the film is just dull .,xxbos ( xxunk one truly memorable part of this otherwise rather dull and tepid bit of xxmaj british cuisine is xxmaj steiner 's henna rinse , one of the worst dye jobs ever . xxmaj that , and the magnificent caterpillar eyebrows on the old evil dude who was trying to steal xxmaj steiner 's invention . xxup mst3 k does an admirable job of making a wretchedly boring and grey film funny . i particularly like it when xxmaj crow kills xxmaj mike with his ' touch of death ' , and when he revives him in the theatre , xxmaj mike cries \" xxmaj guys , i died , i saw eternal truth and beauty ! oh , it 's this movie ... \" xxmaj that would be a letdown , having to come back from the afterlife to watch the rest of xxmaj the xxmaj projected xxmaj man . xxmaj the film could make a fortune being sold as a sleep aide . xxmaj some of the puns in the film were wicked : police xxunk ! \" xxunk , is n't it ? \" police xxunk 's lowe , all right \" xxmaj tom xxunk low , right down by the floor ! \" police xxunk i get on ? \" xxmaj tom xxunk 's dead , but knock yourself out \" xxup mst3 k is definitely the only way to watch this snoozer .,xxbos i have seen it . xxmaj it 's not \" good \" but interesting in an understated way . xxmaj the boys in it are quite naturalistic but xxrep 16 . the graphic / gratuitous final gang rape scene is repugnant and -oh yes- the arbitrary insertion of second world war footage is offensive in the way it attempts to compare real horror with this misogynistic contrivance . xxmaj real atrocity is xxunk this film is just atrocious . xxmaj however , the film has a look which can draw you in . xxmaj but it seems to me that is the \" xxmaj emperor 's xxmaj new xxmaj clothes \" , but in fact in reverse . xxmaj the film looks good , but the direction , story , content and final feeling you take away from this film is vacuous . xxmaj if a feeling can be vacuous - this is it .,xxbos xxmaj and i repeat , please do not see this movie ! xxmaj this is more than a review . xxmaj this is a warning . xxmaj this sets the record for the worst , most effortless comedy ever made . xxmaj at least with most of the recent comedies nowadays , the gags are crude and flat , but the writers and directors put in at least some sort of effort into making them funny . i never get tired of repeating one of my favorite xxunk : xxmaj everyone thinks they can do comedy , and only 10 percent of them are right . xxmaj comedy is hard ! xxmaj this is not some genre any fool can play around with . i think it 's atrocious that the filmmakers are comparing this piece of garbage to \" xxmaj kentucky xxmaj fried xxmaj movie . \" xxmaj basically , these bozos are comparing their so - called comic talents to those of the brilliant xxmaj jim xxmaj abrahams and the xxmaj zucker xxmaj brothers . xxmaj come on , i 've seen xxmaj pauly xxmaj shore movies that are 10 times funnier than \" xxmaj the xxmaj underground xxmaj comedy xxmaj movie . \" xxmaj here 's a sample of the comedy for those curious about seeing this movie : xxmaj one sketch involves a superhero dressed like a penis named xxmaj xxunk . xxmaj the whole joke is that he defeats his enemies by squirting them with semen . xxmaj that 's it . xxmaj that 's the whole joke . xxmaj wow . xxmaj this is enough to make xxmaj carrot xxmaj top roll his eyes . xxmaj another sketch involves a man having sex with a dead person in a porn movie . xxmaj and in another sketch , there 's a bag lady beauty contest , in which we 're exposed to the horrible sights of bikini - clad middle - aged women with beer guts and stretch marks . xxmaj plus , making fun of the homeless is more sad than funny . xxmaj it 's a step away from mocking the mentally handicapped . xxmaj the whole movie is supposed to be a satire . i think the filmmakers forgot that a key element of satire ... is xxup truth ! ! ! xxmaj for anybody who actually enjoyed this crap , explain to me what is truthful about xxup any of these gags ! xxmaj some of the sketches might 've sounded funny on paper , but anybody who 's taken any screen writing classes knows that if a sight gag sounds too funny on paper , it probably wo n't be funny on screen . xxmaj if i tell someone about a big , black , muscular gay virgin , who 's saving himself for the right man , he or she would probably laugh . xxmaj but watching the premise played out on screen for about 10 minutes is a complete drag . i hate how whenever people criticize a low - brow comedy like this for not being funny , they 're regarded as stuck - up squares . i just saw \" xxmaj white xxmaj chicks \" recently . xxmaj that 's another low - brow , politically incorrect comedy , but i laughed my head off . xxmaj the most offensive thing about \" xxmaj the xxmaj underground xxmaj comedy xxmaj movie \" is it 's not funny ! xxmaj what the writers and directors do n't understand is that merely being filthy and tasteless does n't work . xxmaj there has to be more ! xxmaj just think of the famous scene from \" xxmaj there 's xxmaj something xxmaj about xxmaj mary \" ( ironically , enough the bozo filmmakers put the xxmaj farrellys on their special thanks list ) . xxmaj the joke about the semen was n't just funny because it involved bodily fluids . xxmaj there was a buildup . xxmaj ben xxmaj stiller was masturbating in the bathroom to make sure he did n't go out on a date with a \" loaded gun . \" xxmaj then he looked around to see where all the semen went after it was released . a knock is on the door , and he has to answer it . xxmaj his date , xxmaj mary , is at the door and that 's when it 's revealed that the semen is hanging off xxmaj ben 's ear . xxmaj in this movie , there are multiple gags involving characters squirting loads of semen at people , with no buildup whatsoever . xxmaj as xxmaj jay xxmaj leno always says , \" xxmaj this comedy thing 's not so easy , is it ? \" xxmaj keep that in mind , xxmaj vince xxmaj offer , 'cause you were n't cut out for this genre ! ! xxmaj the only reason people might laugh at these gags is because they want to feel hip . xxmaj let 's face it , nowadays it 's hip to laugh at anything politically incorrect . i know comedy is subjective ... but this movie should n't be funny to anybody , except maybe the filmmakers themselves . xxmaj as a side note , the movie had to have been made before xxmaj michael xxmaj clarke xxmaj duncan 's fame in movies like \" xxmaj armageddon \" and \" xxmaj the xxmaj green xxmaj mile . \" xxmaj there ca n't be any other reason why an actor of his caliber would volunteer to be part of this amateurish freak show . xxmaj all the others in the cast are either non - actors , has - been actors or b - movie stars . xxmaj karen xxmaj black made a good impression in \" xxmaj five xxmaj easy xxmaj pieces , \" but i do n't think she 's done anything of value ever since . xxmaj slash was probably drugged into being in this film . xxmaj gina xxmaj lee xxmaj xxunk is nothing without \" xxmaj baywatch . \" xxmaj xxunk is the film 's biggest star ( keeping in mind xxmaj duncan was n't famous at the time ) , and there are still probably a ton of people who have n't heard of her -- for good reason . xxmaj usually , i 'm in support of extremely low - budget flicks , but this one deserves to drift into obscurity . i hope to xxmaj lord this does n't become a cult classic ! xxmaj should n't there be a law against distributing crap like this ?\n",
       "y: CategoryList\n",
       "neg,neg,neg,neg,neg\n",
       "Path: /home/deep/.fastai/data/imdb;\n",
       "\n",
       "Valid: LabelList (25000 items)\n",
       "x: TextList\n",
       "xxbos i did n't know what to expect when i started watching this movie , by the end of it i was pulling my hairs out . xxmaj this was one of the most pathetic movies of this year ... in fact , in the last ten years . xxmaj david xxmaj dhawan should just give up his career as a director . i am yet to come across one original script that xxmaj david xxmaj dhawan has worked on . xxmaj this one was a complete bit y bit rip off xxmaj hitch . i have nothing against remakes as such , but this one is just so lousy that it makes you even hate the original one ( which was pretty decent ) . i fail to understand what actors like xxmaj salman and xxmaj govinda saw in this script . i read somewhere , that this was supposed to be xxmaj govinda 's comeback vehicle . xxmaj if that s true , then only xxmaj god can save his career . xxmaj salman just overacted to the hilt . xxmaj govinda who i think is an actor of very high caliber was completely wasted . xxmaj katrina xxmaj kaif and lara xxmaj dutta had nothing to do apart form wearing designer clothes and smiling for no rhyme or reason . xxmaj please stay away form this one !,xxbos xxmaj for several reasons , this movie is simply awful . xxmaj other posters have listed some of this movie 's historical errors . xxmaj well , i have a layman 's knowledge of xxmaj roman history and even i found the inaccuracies flagrant . i usually forgive errors in historical movies because i understand that the purpose is to entertain not educate . xxmaj and shrinking a long saga down to a two hour feature requires some , let 's say , historical license . xxmaj but this movie goes well beyond mere rounding . \n",
       " \n",
       "  xxmaj there 's worse . xxmaj to tell a story from a distant period , the movie uses flashbacks which just make the story more confusing . xxmaj unless viewers have some prior knowledge of the period , they will quickly be lost . xxmaj in addition , the movie was obviously filmed simultaneously in xxmaj italian and xxmaj english with various actors being dubbed later . xxmaj at times , the actors seem as if they were in completely different movies which were then edited together . xxmaj in fact , this is not far wrong . xxmaj the actors were obviously pasted onto a cheesy computer generated ancient xxmaj rome . \n",
       " \n",
       "  xxmaj the only reason i give this boring mess any stars is because i always find xxmaj peter o'toole entertaining . xxmaj but that is no reason to rent it . xxmaj if you are curious about xxmaj roman history , there are much better movies available .,xxbos xxmaj remember those terrible war movies your grandmother forced you to watch 25 or so years ago on your old xxup vhs recorder ? \" xxmaj the xxmaj fallen \" is just a bad executed remake of those movies ! xxmaj the story is terrible , the direction is terrible , the editing is terrible , the music is terrible , and all together make an unbearable nightmare . \n",
       " \n",
       "  xxmaj it is also terribly slow ! xxmaj very slow ! i tried to sleep while watching it but i could n't do it because i had nightmares of it . \n",
       " \n",
       "  xxmaj please do n't watch this movie ! xxmaj it is xxup that bad ! xxmaj ten lines is a lot so i do n't know what else to say . \n",
       " \n",
       "  xxmaj press the eject button xxup now and you wo nt regret it !,xxbos a post - apocalyptic warrior goes off to save some kind of xxmaj nun and on the way meets some cyber - punks on skates who want to kick his ass . xxmaj this is one of the hardest to watch films ever , xxmaj there are scenes with silence that seems to last hours before somebody comes out with the next badly written , badly acted line . xxmaj there are action sequences that keep repeating - and we 're not talking the quickfire 1 - 2 - 3 action repeat on a particularly good kick that was made popular by eastern directors , we 're talking many , many repeats of long , bad fight sequences . xxmaj this is incredibly confusing at first but then quickly becomes annoying as you 're watching a 30 second sequence for the 2nd , 3rd and 4th time . xxmaj any kind of plot or vision is lost within the confusing continuity , the only thing that s keeps this film in the xxunk ( apart from the bet from a friend that i could n't watch it all the way through without begging for it to be turned off and disposed off safely so it may harm no - one else ) is the fact that although painful , this film is unintentionally hilarious , i 'm not at all a fan of those \" so bad that it 's funny \" type of films but at parts i was in tears . xxmaj other points to note are the quality of the sound and picture but this is forgiveable as it 's obvious money was a major problem in the making of this film . xxmaj final verdict - xxmaj king of the \" so bad they 're funny \" genre , anybody having that kind of genre video night should get themselves a copy . xxmaj also lets not forget that it is actually the worst film i 've ever seen .,xxbos i believe that this movie was a terrible waste of my time , and i would know after watching it 5 times in class . this movie does not show what absolutely perfectly happened during these times . no one can truly say that these things happened to the letter . if anything the only good part would be the actors , even tho that they were really really xxunk were reading the script without expression . quite boring . i would rather watch play school . so i would definitely like to never ever see this movie again in my whole life . it is a complete waste of time unless you want your time to be wasted and if you would like to see an unrealistic view of what happened back in 1981 .\n",
       "y: CategoryList\n",
       "neg,neg,neg,neg,neg\n",
       "Path: /home/deep/.fastai/data/imdb;\n",
       "\n",
       "Test: None, model=SequentialRNN(\n",
       "  (0): MultiBatchEncoder(\n",
       "    (module): AWD_LSTM(\n",
       "      (encoder): Embedding(60000, 400, padding_idx=1)\n",
       "      (encoder_dp): EmbeddingDropout(\n",
       "        (emb): Embedding(60000, 400, padding_idx=1)\n",
       "      )\n",
       "      (rnns): ModuleList(\n",
       "        (0): WeightDropout(\n",
       "          (module): LSTM(400, 1152, batch_first=True)\n",
       "        )\n",
       "        (1): WeightDropout(\n",
       "          (module): LSTM(1152, 1152, batch_first=True)\n",
       "        )\n",
       "        (2): WeightDropout(\n",
       "          (module): LSTM(1152, 400, batch_first=True)\n",
       "        )\n",
       "      )\n",
       "      (input_dp): RNNDropout()\n",
       "      (hidden_dps): ModuleList(\n",
       "        (0): RNNDropout()\n",
       "        (1): RNNDropout()\n",
       "        (2): RNNDropout()\n",
       "      )\n",
       "    )\n",
       "  )\n",
       "  (1): PoolingLinearClassifier(\n",
       "    (layers): Sequential(\n",
       "      (0): BatchNorm1d(1200, eps=1e-05, momentum=0.1, affine=True, track_running_stats=True)\n",
       "      (1): Dropout(p=0.2)\n",
       "      (2): Linear(in_features=1200, out_features=50, bias=True)\n",
       "      (3): ReLU(inplace)\n",
       "      (4): BatchNorm1d(50, eps=1e-05, momentum=0.1, affine=True, track_running_stats=True)\n",
       "      (5): Dropout(p=0.1)\n",
       "      (6): Linear(in_features=50, out_features=2, bias=True)\n",
       "    )\n",
       "  )\n",
       "), opt_func=functools.partial(<class 'torch.optim.adam.Adam'>, betas=(0.9, 0.99)), loss_func=FlattenedLoss of CrossEntropyLoss(), metrics=[<function accuracy at 0x7f3853a176a8>], true_wd=True, bn_wd=True, wd=0.01, train_bn=True, path=PosixPath('/home/deep/.fastai/data/imdb'), model_dir='models', callback_fns=[functools.partial(<class 'fastai.basic_train.Recorder'>, add_time=True, silent=False)], callbacks=[...], layer_groups=[Sequential(\n",
       "  (0): Embedding(60000, 400, padding_idx=1)\n",
       "  (1): EmbeddingDropout(\n",
       "    (emb): Embedding(60000, 400, padding_idx=1)\n",
       "  )\n",
       "), Sequential(\n",
       "  (0): WeightDropout(\n",
       "    (module): LSTM(400, 1152, batch_first=True)\n",
       "  )\n",
       "  (1): RNNDropout()\n",
       "), Sequential(\n",
       "  (0): WeightDropout(\n",
       "    (module): LSTM(1152, 1152, batch_first=True)\n",
       "  )\n",
       "  (1): RNNDropout()\n",
       "), Sequential(\n",
       "  (0): WeightDropout(\n",
       "    (module): LSTM(1152, 400, batch_first=True)\n",
       "  )\n",
       "  (1): RNNDropout()\n",
       "), Sequential(\n",
       "  (0): PoolingLinearClassifier(\n",
       "    (layers): Sequential(\n",
       "      (0): BatchNorm1d(1200, eps=1e-05, momentum=0.1, affine=True, track_running_stats=True)\n",
       "      (1): Dropout(p=0.2)\n",
       "      (2): Linear(in_features=1200, out_features=50, bias=True)\n",
       "      (3): ReLU(inplace)\n",
       "      (4): BatchNorm1d(50, eps=1e-05, momentum=0.1, affine=True, track_running_stats=True)\n",
       "      (5): Dropout(p=0.1)\n",
       "      (6): Linear(in_features=50, out_features=2, bias=True)\n",
       "    )\n",
       "  )\n",
       ")], add_time=True, silent=False)\n",
       "alpha: 2.0\n",
       "beta: 1.0], layer_groups=[Sequential(\n",
       "  (0): Embedding(60000, 400, padding_idx=1)\n",
       "  (1): EmbeddingDropout(\n",
       "    (emb): Embedding(60000, 400, padding_idx=1)\n",
       "  )\n",
       "), Sequential(\n",
       "  (0): WeightDropout(\n",
       "    (module): LSTM(400, 1152, batch_first=True)\n",
       "  )\n",
       "  (1): RNNDropout()\n",
       "), Sequential(\n",
       "  (0): WeightDropout(\n",
       "    (module): LSTM(1152, 1152, batch_first=True)\n",
       "  )\n",
       "  (1): RNNDropout()\n",
       "), Sequential(\n",
       "  (0): WeightDropout(\n",
       "    (module): LSTM(1152, 400, batch_first=True)\n",
       "  )\n",
       "  (1): RNNDropout()\n",
       "), Sequential(\n",
       "  (0): PoolingLinearClassifier(\n",
       "    (layers): Sequential(\n",
       "      (0): BatchNorm1d(1200, eps=1e-05, momentum=0.1, affine=True, track_running_stats=True)\n",
       "      (1): Dropout(p=0.2)\n",
       "      (2): Linear(in_features=1200, out_features=50, bias=True)\n",
       "      (3): ReLU(inplace)\n",
       "      (4): BatchNorm1d(50, eps=1e-05, momentum=0.1, affine=True, track_running_stats=True)\n",
       "      (5): Dropout(p=0.1)\n",
       "      (6): Linear(in_features=50, out_features=2, bias=True)\n",
       "    )\n",
       "  )\n",
       ")], add_time=True, silent=False)"
      ]
     },
     "execution_count": 37,
     "metadata": {},
     "output_type": "execute_result"
    }
   ],
   "source": [
    "learn = text_classifier_learner(data_clas, AWD_LSTM, drop_mult=0.5)\n",
    "learn.load_encoder('fine_tuned_enc')"
   ]
  },
  {
   "cell_type": "code",
   "execution_count": null,
   "metadata": {},
   "outputs": [],
   "source": [
    "learn.lr_find()\n",
    "learn.recorder.plot()"
   ]
  },
  {
   "cell_type": "code",
   "execution_count": 38,
   "metadata": {},
   "outputs": [
    {
     "data": {
      "text/html": [
       "<table border=\"1\" class=\"dataframe\">\n",
       "  <thead>\n",
       "    <tr style=\"text-align: left;\">\n",
       "      <th>epoch</th>\n",
       "      <th>train_loss</th>\n",
       "      <th>valid_loss</th>\n",
       "      <th>accuracy</th>\n",
       "      <th>time</th>\n",
       "    </tr>\n",
       "  </thead>\n",
       "  <tbody>\n",
       "    <tr>\n",
       "      <td>0</td>\n",
       "      <td>0.550611</td>\n",
       "      <td>0.507198</td>\n",
       "      <td>0.750440</td>\n",
       "      <td>02:13</td>\n",
       "    </tr>\n",
       "  </tbody>\n",
       "</table>"
      ],
      "text/plain": [
       "<IPython.core.display.HTML object>"
      ]
     },
     "metadata": {},
     "output_type": "display_data"
    }
   ],
   "source": [
    "learn.fit_one_cycle(1, 2e-2, moms=(0.8,0.7))"
   ]
  },
  {
   "cell_type": "code",
   "execution_count": null,
   "metadata": {},
   "outputs": [],
   "source": [
    "learn.save('first')\n",
    "learn.load('first');"
   ]
  },
  {
   "cell_type": "code",
   "execution_count": null,
   "metadata": {},
   "outputs": [],
   "source": [
    "learn.freeze_to(-2)\n",
    "learn.fit_one_cycle(1, slice(1e-2/(2.6**4),1e-2), moms=(0.8,0.7))"
   ]
  },
  {
   "cell_type": "code",
   "execution_count": null,
   "metadata": {},
   "outputs": [],
   "source": [
    "learn.save('second')"
   ]
  },
  {
   "cell_type": "code",
   "execution_count": 35,
   "metadata": {},
   "outputs": [],
   "source": [
    "learn.load('second');"
   ]
  },
  {
   "cell_type": "code",
   "execution_count": null,
   "metadata": {},
   "outputs": [],
   "source": [
    "learn.freeze_to(-3)\n",
    "learn.fit_one_cycle(1, slice(5e-3/(2.6**4),5e-3), moms=(0.8,0.7))"
   ]
  },
  {
   "cell_type": "code",
   "execution_count": null,
   "metadata": {},
   "outputs": [],
   "source": [
    "learn.save('third')"
   ]
  },
  {
   "cell_type": "code",
   "execution_count": 31,
   "metadata": {},
   "outputs": [],
   "source": [
    "learn.load('third');"
   ]
  },
  {
   "cell_type": "code",
   "execution_count": null,
   "metadata": {},
   "outputs": [],
   "source": [
    "learn.unfreeze()\n",
    "learn.fit_one_cycle(2, slice(1e-3/(2.6**4),1e-3), moms=(0.8,0.7))"
   ]
  },
  {
   "cell_type": "code",
   "execution_count": 36,
   "metadata": {},
   "outputs": [
    {
     "data": {
      "text/plain": [
       "(Category neg, tensor(0), tensor([0.7460, 0.2540]))"
      ]
     },
     "execution_count": 36,
     "metadata": {},
     "output_type": "execute_result"
    }
   ],
   "source": [
    "learn.predict(\"I really loved that movie, it was awesome!\")"
   ]
  },
  {
   "cell_type": "code",
   "execution_count": 32,
   "metadata": {},
   "outputs": [
    {
     "data": {
      "text/plain": [
       "[0.59969085, tensor(0.7101)]"
      ]
     },
     "execution_count": 32,
     "metadata": {},
     "output_type": "execute_result"
    }
   ],
   "source": [
    "learn.validate()"
   ]
  },
  {
   "cell_type": "code",
   "execution_count": null,
   "metadata": {},
   "outputs": [],
   "source": []
  }
 ],
 "metadata": {
  "kernelspec": {
   "display_name": "Python 3",
   "language": "python",
   "name": "python3"
  },
  "language_info": {
   "codemirror_mode": {
    "name": "ipython",
    "version": 3
   },
   "file_extension": ".py",
   "mimetype": "text/x-python",
   "name": "python",
   "nbconvert_exporter": "python",
   "pygments_lexer": "ipython3",
   "version": "3.6.8"
  }
 },
 "nbformat": 4,
 "nbformat_minor": 4
}
